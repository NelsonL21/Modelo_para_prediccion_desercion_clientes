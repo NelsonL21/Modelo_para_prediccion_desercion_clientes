{
 "cells": [
  {
   "cell_type": "markdown",
   "metadata": {
    "id": "ea1XvQXSR_sA"
   },
   "source": [
    "# <h1> **PREDICCIÓN DE DESERCIÓN DE CLIENTES EN BETA BANK** </h1>"
   ]
  },
  {
   "cell_type": "markdown",
   "metadata": {
    "id": "3ewjizj1TUf5"
   },
   "source": [
    "## **DESCRIPCIÓN DEL PROYECTO**"
   ]
  },
  {
   "cell_type": "markdown",
   "metadata": {
    "id": "4e7tSuR5SYPU"
   },
   "source": [
    "<p> Los clientes de Beta Bank se están yendo, cada mes, poco a poco. Los banqueros descubrieron que es más barato salvar a los clientes existentes que atraer nuevos.</p>\n",
    "\n",
    "<p>Necesitamos predecir si un cliente dejará el banco pronto. Se tienen los datos sobre el comportamiento pasado de los clientes y la terminación de contratos con el banco.</p>\n",
    "\n",
    "**Características** \n",
    "\n",
    "* RowNumber: índice de cadena de datos\n",
    "* CustomerId: identificador de cliente único\n",
    "* Surname: apellido\n",
    "* CreditScore: valor de crédito\n",
    "* Geography: país de residencia\n",
    "* Gender: sexo\n",
    "* Age: edad\n",
    "* Tenure: período durante el cual ha madurado el depósito a plazo fijo de un cliente (años)\n",
    "* Balance: saldo de la cuenta\n",
    "* NumOfProducts: número de productos bancarios utilizados por el cliente\n",
    "* HasCrCard: el cliente tiene una tarjeta de crédito (1 - sí; 0 - no)\n",
    "* IsActiveMember: actividad del cliente (1 - sí; 0 - no)\n",
    "* EstimatedSalary: salario estimado\n",
    "\n",
    "**Objetivo**\n",
    "\n",
    "* Exited: El cliente se ha ido (1 - sí; 0 - no)\n",
    "\n",
    "Para solentar la probelmatica se realizará un algoritmo de Machine Learning que nos permita predecir cuando un cliente dejará la empresa en base a las caracteríasticas y valores históricos de los clientes."
   ]
  },
  {
   "cell_type": "markdown",
   "metadata": {
    "id": "olC17_CzT1jJ"
   },
   "source": [
    "## **LIBRERÍAS**"
   ]
  },
  {
   "cell_type": "code",
   "execution_count": 15,
   "metadata": {
    "id": "Sg1iek7RsBbe"
   },
   "outputs": [],
   "source": [
    "import pandas as pd\n",
    "from sklearn.model_selection import train_test_split\n",
    "from sklearn.preprocessing import StandardScaler \n",
    "from sklearn.ensemble import RandomForestClassifier \n",
    "from sklearn.linear_model import LogisticRegression\n",
    "from sklearn.metrics import confusion_matrix\n",
    "from sklearn.metrics import recall_score \n",
    "from sklearn.metrics import precision_score \n",
    "from sklearn.metrics import f1_score \n",
    "from sklearn.utils import shuffle\n",
    "from sklearn.metrics import precision_recall_curve\n",
    "from sklearn.metrics import roc_curve\n",
    "import numpy as np\n",
    "import matplotlib.pyplot as plt\n",
    "from sklearn.metrics import roc_auc_score "
   ]
  },
  {
   "cell_type": "markdown",
   "metadata": {
    "id": "Z45Mph9BUF_S"
   },
   "source": [
    "## **PREPROCESAMIENTO DE DATOS**"
   ]
  },
  {
   "cell_type": "markdown",
   "metadata": {
    "id": "nclEsMVWUMQN"
   },
   "source": [
    "Primeramente importamos el Data Frame y se procede a estudiar sus caracteríasticas"
   ]
  },
  {
   "cell_type": "code",
   "execution_count": 16,
   "metadata": {
    "id": "zu9SIP_QDAOv"
   },
   "outputs": [],
   "source": [
    "try:\n",
    "  churn = pd.read_csv('/content/drive/MyDrive/practicum/Sprint8/Churn.csv')\n",
    "except:\n",
    "  churn = pd.read_csv('/datasets/Churn.csv')"
   ]
  },
  {
   "cell_type": "markdown",
   "metadata": {
    "id": "wb3qAiTBUV_W"
   },
   "source": [
    "Se procede a observar las primeras 5 filas"
   ]
  },
  {
   "cell_type": "code",
   "execution_count": 17,
   "metadata": {
    "colab": {
     "base_uri": "https://localhost:8080/",
     "height": 270
    },
    "id": "OsRPea7UDcA6",
    "outputId": "8ee55d91-53ae-4a24-916e-e5660f51acb2"
   },
   "outputs": [
    {
     "data": {
      "text/html": [
       "\n",
       "  <div id=\"df-96dda4f2-24af-4d38-8db5-87ff5afa741b\">\n",
       "    <div class=\"colab-df-container\">\n",
       "      <div>\n",
       "<style scoped>\n",
       "    .dataframe tbody tr th:only-of-type {\n",
       "        vertical-align: middle;\n",
       "    }\n",
       "\n",
       "    .dataframe tbody tr th {\n",
       "        vertical-align: top;\n",
       "    }\n",
       "\n",
       "    .dataframe thead th {\n",
       "        text-align: right;\n",
       "    }\n",
       "</style>\n",
       "<table border=\"1\" class=\"dataframe\">\n",
       "  <thead>\n",
       "    <tr style=\"text-align: right;\">\n",
       "      <th></th>\n",
       "      <th>RowNumber</th>\n",
       "      <th>CustomerId</th>\n",
       "      <th>Surname</th>\n",
       "      <th>CreditScore</th>\n",
       "      <th>Geography</th>\n",
       "      <th>Gender</th>\n",
       "      <th>Age</th>\n",
       "      <th>Tenure</th>\n",
       "      <th>Balance</th>\n",
       "      <th>NumOfProducts</th>\n",
       "      <th>HasCrCard</th>\n",
       "      <th>IsActiveMember</th>\n",
       "      <th>EstimatedSalary</th>\n",
       "      <th>Exited</th>\n",
       "    </tr>\n",
       "  </thead>\n",
       "  <tbody>\n",
       "    <tr>\n",
       "      <th>0</th>\n",
       "      <td>1</td>\n",
       "      <td>15634602</td>\n",
       "      <td>Hargrave</td>\n",
       "      <td>619</td>\n",
       "      <td>France</td>\n",
       "      <td>Female</td>\n",
       "      <td>42</td>\n",
       "      <td>2.0</td>\n",
       "      <td>0.00</td>\n",
       "      <td>1</td>\n",
       "      <td>1</td>\n",
       "      <td>1</td>\n",
       "      <td>101348.88</td>\n",
       "      <td>1</td>\n",
       "    </tr>\n",
       "    <tr>\n",
       "      <th>1</th>\n",
       "      <td>2</td>\n",
       "      <td>15647311</td>\n",
       "      <td>Hill</td>\n",
       "      <td>608</td>\n",
       "      <td>Spain</td>\n",
       "      <td>Female</td>\n",
       "      <td>41</td>\n",
       "      <td>1.0</td>\n",
       "      <td>83807.86</td>\n",
       "      <td>1</td>\n",
       "      <td>0</td>\n",
       "      <td>1</td>\n",
       "      <td>112542.58</td>\n",
       "      <td>0</td>\n",
       "    </tr>\n",
       "    <tr>\n",
       "      <th>2</th>\n",
       "      <td>3</td>\n",
       "      <td>15619304</td>\n",
       "      <td>Onio</td>\n",
       "      <td>502</td>\n",
       "      <td>France</td>\n",
       "      <td>Female</td>\n",
       "      <td>42</td>\n",
       "      <td>8.0</td>\n",
       "      <td>159660.80</td>\n",
       "      <td>3</td>\n",
       "      <td>1</td>\n",
       "      <td>0</td>\n",
       "      <td>113931.57</td>\n",
       "      <td>1</td>\n",
       "    </tr>\n",
       "    <tr>\n",
       "      <th>3</th>\n",
       "      <td>4</td>\n",
       "      <td>15701354</td>\n",
       "      <td>Boni</td>\n",
       "      <td>699</td>\n",
       "      <td>France</td>\n",
       "      <td>Female</td>\n",
       "      <td>39</td>\n",
       "      <td>1.0</td>\n",
       "      <td>0.00</td>\n",
       "      <td>2</td>\n",
       "      <td>0</td>\n",
       "      <td>0</td>\n",
       "      <td>93826.63</td>\n",
       "      <td>0</td>\n",
       "    </tr>\n",
       "    <tr>\n",
       "      <th>4</th>\n",
       "      <td>5</td>\n",
       "      <td>15737888</td>\n",
       "      <td>Mitchell</td>\n",
       "      <td>850</td>\n",
       "      <td>Spain</td>\n",
       "      <td>Female</td>\n",
       "      <td>43</td>\n",
       "      <td>2.0</td>\n",
       "      <td>125510.82</td>\n",
       "      <td>1</td>\n",
       "      <td>1</td>\n",
       "      <td>1</td>\n",
       "      <td>79084.10</td>\n",
       "      <td>0</td>\n",
       "    </tr>\n",
       "  </tbody>\n",
       "</table>\n",
       "</div>\n",
       "      <button class=\"colab-df-convert\" onclick=\"convertToInteractive('df-96dda4f2-24af-4d38-8db5-87ff5afa741b')\"\n",
       "              title=\"Convert this dataframe to an interactive table.\"\n",
       "              style=\"display:none;\">\n",
       "        \n",
       "  <svg xmlns=\"http://www.w3.org/2000/svg\" height=\"24px\"viewBox=\"0 0 24 24\"\n",
       "       width=\"24px\">\n",
       "    <path d=\"M0 0h24v24H0V0z\" fill=\"none\"/>\n",
       "    <path d=\"M18.56 5.44l.94 2.06.94-2.06 2.06-.94-2.06-.94-.94-2.06-.94 2.06-2.06.94zm-11 1L8.5 8.5l.94-2.06 2.06-.94-2.06-.94L8.5 2.5l-.94 2.06-2.06.94zm10 10l.94 2.06.94-2.06 2.06-.94-2.06-.94-.94-2.06-.94 2.06-2.06.94z\"/><path d=\"M17.41 7.96l-1.37-1.37c-.4-.4-.92-.59-1.43-.59-.52 0-1.04.2-1.43.59L10.3 9.45l-7.72 7.72c-.78.78-.78 2.05 0 2.83L4 21.41c.39.39.9.59 1.41.59.51 0 1.02-.2 1.41-.59l7.78-7.78 2.81-2.81c.8-.78.8-2.07 0-2.86zM5.41 20L4 18.59l7.72-7.72 1.47 1.35L5.41 20z\"/>\n",
       "  </svg>\n",
       "      </button>\n",
       "      \n",
       "  <style>\n",
       "    .colab-df-container {\n",
       "      display:flex;\n",
       "      flex-wrap:wrap;\n",
       "      gap: 12px;\n",
       "    }\n",
       "\n",
       "    .colab-df-convert {\n",
       "      background-color: #E8F0FE;\n",
       "      border: none;\n",
       "      border-radius: 50%;\n",
       "      cursor: pointer;\n",
       "      display: none;\n",
       "      fill: #1967D2;\n",
       "      height: 32px;\n",
       "      padding: 0 0 0 0;\n",
       "      width: 32px;\n",
       "    }\n",
       "\n",
       "    .colab-df-convert:hover {\n",
       "      background-color: #E2EBFA;\n",
       "      box-shadow: 0px 1px 2px rgba(60, 64, 67, 0.3), 0px 1px 3px 1px rgba(60, 64, 67, 0.15);\n",
       "      fill: #174EA6;\n",
       "    }\n",
       "\n",
       "    [theme=dark] .colab-df-convert {\n",
       "      background-color: #3B4455;\n",
       "      fill: #D2E3FC;\n",
       "    }\n",
       "\n",
       "    [theme=dark] .colab-df-convert:hover {\n",
       "      background-color: #434B5C;\n",
       "      box-shadow: 0px 1px 3px 1px rgba(0, 0, 0, 0.15);\n",
       "      filter: drop-shadow(0px 1px 2px rgba(0, 0, 0, 0.3));\n",
       "      fill: #FFFFFF;\n",
       "    }\n",
       "  </style>\n",
       "\n",
       "      <script>\n",
       "        const buttonEl =\n",
       "          document.querySelector('#df-96dda4f2-24af-4d38-8db5-87ff5afa741b button.colab-df-convert');\n",
       "        buttonEl.style.display =\n",
       "          google.colab.kernel.accessAllowed ? 'block' : 'none';\n",
       "\n",
       "        async function convertToInteractive(key) {\n",
       "          const element = document.querySelector('#df-96dda4f2-24af-4d38-8db5-87ff5afa741b');\n",
       "          const dataTable =\n",
       "            await google.colab.kernel.invokeFunction('convertToInteractive',\n",
       "                                                     [key], {});\n",
       "          if (!dataTable) return;\n",
       "\n",
       "          const docLinkHtml = 'Like what you see? Visit the ' +\n",
       "            '<a target=\"_blank\" href=https://colab.research.google.com/notebooks/data_table.ipynb>data table notebook</a>'\n",
       "            + ' to learn more about interactive tables.';\n",
       "          element.innerHTML = '';\n",
       "          dataTable['output_type'] = 'display_data';\n",
       "          await google.colab.output.renderOutput(dataTable, element);\n",
       "          const docLink = document.createElement('div');\n",
       "          docLink.innerHTML = docLinkHtml;\n",
       "          element.appendChild(docLink);\n",
       "        }\n",
       "      </script>\n",
       "    </div>\n",
       "  </div>\n",
       "  "
      ],
      "text/plain": [
       "   RowNumber  CustomerId   Surname  CreditScore Geography  Gender  Age  \\\n",
       "0          1    15634602  Hargrave          619    France  Female   42   \n",
       "1          2    15647311      Hill          608     Spain  Female   41   \n",
       "2          3    15619304      Onio          502    France  Female   42   \n",
       "3          4    15701354      Boni          699    France  Female   39   \n",
       "4          5    15737888  Mitchell          850     Spain  Female   43   \n",
       "\n",
       "   Tenure    Balance  NumOfProducts  HasCrCard  IsActiveMember  \\\n",
       "0     2.0       0.00              1          1               1   \n",
       "1     1.0   83807.86              1          0               1   \n",
       "2     8.0  159660.80              3          1               0   \n",
       "3     1.0       0.00              2          0               0   \n",
       "4     2.0  125510.82              1          1               1   \n",
       "\n",
       "   EstimatedSalary  Exited  \n",
       "0        101348.88       1  \n",
       "1        112542.58       0  \n",
       "2        113931.57       1  \n",
       "3         93826.63       0  \n",
       "4         79084.10       0  "
      ]
     },
     "execution_count": 17,
     "metadata": {},
     "output_type": "execute_result"
    }
   ],
   "source": [
    "churn.head()"
   ]
  },
  {
   "cell_type": "markdown",
   "metadata": {
    "id": "eqE3gX3dUZvr"
   },
   "source": [
    "Se procede a verificar que las columnas no tengan valores ausentes y que tengamos los tipos de dato correctos en cada una"
   ]
  },
  {
   "cell_type": "code",
   "execution_count": 18,
   "metadata": {
    "colab": {
     "base_uri": "https://localhost:8080/"
    },
    "id": "PxIq1O2UDndY",
    "outputId": "1a33954e-0895-4145-97f9-2aff9e1c04e9"
   },
   "outputs": [
    {
     "name": "stdout",
     "output_type": "stream",
     "text": [
      "<class 'pandas.core.frame.DataFrame'>\n",
      "RangeIndex: 10000 entries, 0 to 9999\n",
      "Data columns (total 14 columns):\n",
      " #   Column           Non-Null Count  Dtype  \n",
      "---  ------           --------------  -----  \n",
      " 0   RowNumber        10000 non-null  int64  \n",
      " 1   CustomerId       10000 non-null  int64  \n",
      " 2   Surname          10000 non-null  object \n",
      " 3   CreditScore      10000 non-null  int64  \n",
      " 4   Geography        10000 non-null  object \n",
      " 5   Gender           10000 non-null  object \n",
      " 6   Age              10000 non-null  int64  \n",
      " 7   Tenure           9091 non-null   float64\n",
      " 8   Balance          10000 non-null  float64\n",
      " 9   NumOfProducts    10000 non-null  int64  \n",
      " 10  HasCrCard        10000 non-null  int64  \n",
      " 11  IsActiveMember   10000 non-null  int64  \n",
      " 12  EstimatedSalary  10000 non-null  float64\n",
      " 13  Exited           10000 non-null  int64  \n",
      "dtypes: float64(3), int64(8), object(3)\n",
      "memory usage: 1.1+ MB\n"
     ]
    }
   ],
   "source": [
    "churn.info()"
   ]
  },
  {
   "cell_type": "markdown",
   "metadata": {
    "id": "RaAHMraMUu58"
   },
   "source": [
    "Como se puede observar se tiene algunos valores ausnetes en la columna de `Tenure` el cual contiene información sobre el período durante el cual ha madurado el depósito a plazo fijo de un cliente (años) cuya ausencia lopuede significar que no posee ningún depósito de este típo, por lo cual el espacio se dejó en blanco y para no perder las caracteríasticas simplemenete sustituiremos el valor por 0. Y para ver como afecta la preducciín de los valores, vamos a realizar un desglose de los curtiles, así como de su media, mediana y desviación estandar antes y depués del cambio."
   ]
  },
  {
   "cell_type": "markdown",
   "metadata": {
    "id": "aagziSToF_BT"
   },
   "source": [
    "Se deciden eliminar las columnas de `CustomerId`, `RowNumber` y `Surname` ya que las mismas no son relevantes para el algoritmo de Machine Learning"
   ]
  },
  {
   "cell_type": "code",
   "execution_count": 19,
   "metadata": {
    "id": "dj3-5sSbGO5P"
   },
   "outputs": [],
   "source": [
    "churn = churn.drop(['CustomerId', 'RowNumber', 'Surname'], axis = 1)"
   ]
  },
  {
   "cell_type": "code",
   "execution_count": 20,
   "metadata": {
    "colab": {
     "base_uri": "https://localhost:8080/",
     "height": 300
    },
    "id": "5JeDM5CuJjaR",
    "outputId": "2c044698-5c6d-42f7-9700-47c60bbc1c39"
   },
   "outputs": [
    {
     "data": {
      "text/html": [
       "\n",
       "  <div id=\"df-d8209770-5a3a-4625-926b-6bc7f8ac95c5\">\n",
       "    <div class=\"colab-df-container\">\n",
       "      <div>\n",
       "<style scoped>\n",
       "    .dataframe tbody tr th:only-of-type {\n",
       "        vertical-align: middle;\n",
       "    }\n",
       "\n",
       "    .dataframe tbody tr th {\n",
       "        vertical-align: top;\n",
       "    }\n",
       "\n",
       "    .dataframe thead th {\n",
       "        text-align: right;\n",
       "    }\n",
       "</style>\n",
       "<table border=\"1\" class=\"dataframe\">\n",
       "  <thead>\n",
       "    <tr style=\"text-align: right;\">\n",
       "      <th></th>\n",
       "      <th>CreditScore</th>\n",
       "      <th>Age</th>\n",
       "      <th>Tenure</th>\n",
       "      <th>Balance</th>\n",
       "      <th>NumOfProducts</th>\n",
       "      <th>HasCrCard</th>\n",
       "      <th>IsActiveMember</th>\n",
       "      <th>EstimatedSalary</th>\n",
       "      <th>Exited</th>\n",
       "    </tr>\n",
       "  </thead>\n",
       "  <tbody>\n",
       "    <tr>\n",
       "      <th>count</th>\n",
       "      <td>10000.000000</td>\n",
       "      <td>10000.000000</td>\n",
       "      <td>9091.000000</td>\n",
       "      <td>10000.000000</td>\n",
       "      <td>10000.000000</td>\n",
       "      <td>10000.00000</td>\n",
       "      <td>10000.000000</td>\n",
       "      <td>10000.000000</td>\n",
       "      <td>10000.000000</td>\n",
       "    </tr>\n",
       "    <tr>\n",
       "      <th>mean</th>\n",
       "      <td>650.528800</td>\n",
       "      <td>38.921800</td>\n",
       "      <td>4.997690</td>\n",
       "      <td>76485.889288</td>\n",
       "      <td>1.530200</td>\n",
       "      <td>0.70550</td>\n",
       "      <td>0.515100</td>\n",
       "      <td>100090.239881</td>\n",
       "      <td>0.203700</td>\n",
       "    </tr>\n",
       "    <tr>\n",
       "      <th>std</th>\n",
       "      <td>96.653299</td>\n",
       "      <td>10.487806</td>\n",
       "      <td>2.894723</td>\n",
       "      <td>62397.405202</td>\n",
       "      <td>0.581654</td>\n",
       "      <td>0.45584</td>\n",
       "      <td>0.499797</td>\n",
       "      <td>57510.492818</td>\n",
       "      <td>0.402769</td>\n",
       "    </tr>\n",
       "    <tr>\n",
       "      <th>min</th>\n",
       "      <td>350.000000</td>\n",
       "      <td>18.000000</td>\n",
       "      <td>0.000000</td>\n",
       "      <td>0.000000</td>\n",
       "      <td>1.000000</td>\n",
       "      <td>0.00000</td>\n",
       "      <td>0.000000</td>\n",
       "      <td>11.580000</td>\n",
       "      <td>0.000000</td>\n",
       "    </tr>\n",
       "    <tr>\n",
       "      <th>25%</th>\n",
       "      <td>584.000000</td>\n",
       "      <td>32.000000</td>\n",
       "      <td>2.000000</td>\n",
       "      <td>0.000000</td>\n",
       "      <td>1.000000</td>\n",
       "      <td>0.00000</td>\n",
       "      <td>0.000000</td>\n",
       "      <td>51002.110000</td>\n",
       "      <td>0.000000</td>\n",
       "    </tr>\n",
       "    <tr>\n",
       "      <th>50%</th>\n",
       "      <td>652.000000</td>\n",
       "      <td>37.000000</td>\n",
       "      <td>5.000000</td>\n",
       "      <td>97198.540000</td>\n",
       "      <td>1.000000</td>\n",
       "      <td>1.00000</td>\n",
       "      <td>1.000000</td>\n",
       "      <td>100193.915000</td>\n",
       "      <td>0.000000</td>\n",
       "    </tr>\n",
       "    <tr>\n",
       "      <th>75%</th>\n",
       "      <td>718.000000</td>\n",
       "      <td>44.000000</td>\n",
       "      <td>7.000000</td>\n",
       "      <td>127644.240000</td>\n",
       "      <td>2.000000</td>\n",
       "      <td>1.00000</td>\n",
       "      <td>1.000000</td>\n",
       "      <td>149388.247500</td>\n",
       "      <td>0.000000</td>\n",
       "    </tr>\n",
       "    <tr>\n",
       "      <th>max</th>\n",
       "      <td>850.000000</td>\n",
       "      <td>92.000000</td>\n",
       "      <td>10.000000</td>\n",
       "      <td>250898.090000</td>\n",
       "      <td>4.000000</td>\n",
       "      <td>1.00000</td>\n",
       "      <td>1.000000</td>\n",
       "      <td>199992.480000</td>\n",
       "      <td>1.000000</td>\n",
       "    </tr>\n",
       "  </tbody>\n",
       "</table>\n",
       "</div>\n",
       "      <button class=\"colab-df-convert\" onclick=\"convertToInteractive('df-d8209770-5a3a-4625-926b-6bc7f8ac95c5')\"\n",
       "              title=\"Convert this dataframe to an interactive table.\"\n",
       "              style=\"display:none;\">\n",
       "        \n",
       "  <svg xmlns=\"http://www.w3.org/2000/svg\" height=\"24px\"viewBox=\"0 0 24 24\"\n",
       "       width=\"24px\">\n",
       "    <path d=\"M0 0h24v24H0V0z\" fill=\"none\"/>\n",
       "    <path d=\"M18.56 5.44l.94 2.06.94-2.06 2.06-.94-2.06-.94-.94-2.06-.94 2.06-2.06.94zm-11 1L8.5 8.5l.94-2.06 2.06-.94-2.06-.94L8.5 2.5l-.94 2.06-2.06.94zm10 10l.94 2.06.94-2.06 2.06-.94-2.06-.94-.94-2.06-.94 2.06-2.06.94z\"/><path d=\"M17.41 7.96l-1.37-1.37c-.4-.4-.92-.59-1.43-.59-.52 0-1.04.2-1.43.59L10.3 9.45l-7.72 7.72c-.78.78-.78 2.05 0 2.83L4 21.41c.39.39.9.59 1.41.59.51 0 1.02-.2 1.41-.59l7.78-7.78 2.81-2.81c.8-.78.8-2.07 0-2.86zM5.41 20L4 18.59l7.72-7.72 1.47 1.35L5.41 20z\"/>\n",
       "  </svg>\n",
       "      </button>\n",
       "      \n",
       "  <style>\n",
       "    .colab-df-container {\n",
       "      display:flex;\n",
       "      flex-wrap:wrap;\n",
       "      gap: 12px;\n",
       "    }\n",
       "\n",
       "    .colab-df-convert {\n",
       "      background-color: #E8F0FE;\n",
       "      border: none;\n",
       "      border-radius: 50%;\n",
       "      cursor: pointer;\n",
       "      display: none;\n",
       "      fill: #1967D2;\n",
       "      height: 32px;\n",
       "      padding: 0 0 0 0;\n",
       "      width: 32px;\n",
       "    }\n",
       "\n",
       "    .colab-df-convert:hover {\n",
       "      background-color: #E2EBFA;\n",
       "      box-shadow: 0px 1px 2px rgba(60, 64, 67, 0.3), 0px 1px 3px 1px rgba(60, 64, 67, 0.15);\n",
       "      fill: #174EA6;\n",
       "    }\n",
       "\n",
       "    [theme=dark] .colab-df-convert {\n",
       "      background-color: #3B4455;\n",
       "      fill: #D2E3FC;\n",
       "    }\n",
       "\n",
       "    [theme=dark] .colab-df-convert:hover {\n",
       "      background-color: #434B5C;\n",
       "      box-shadow: 0px 1px 3px 1px rgba(0, 0, 0, 0.15);\n",
       "      filter: drop-shadow(0px 1px 2px rgba(0, 0, 0, 0.3));\n",
       "      fill: #FFFFFF;\n",
       "    }\n",
       "  </style>\n",
       "\n",
       "      <script>\n",
       "        const buttonEl =\n",
       "          document.querySelector('#df-d8209770-5a3a-4625-926b-6bc7f8ac95c5 button.colab-df-convert');\n",
       "        buttonEl.style.display =\n",
       "          google.colab.kernel.accessAllowed ? 'block' : 'none';\n",
       "\n",
       "        async function convertToInteractive(key) {\n",
       "          const element = document.querySelector('#df-d8209770-5a3a-4625-926b-6bc7f8ac95c5');\n",
       "          const dataTable =\n",
       "            await google.colab.kernel.invokeFunction('convertToInteractive',\n",
       "                                                     [key], {});\n",
       "          if (!dataTable) return;\n",
       "\n",
       "          const docLinkHtml = 'Like what you see? Visit the ' +\n",
       "            '<a target=\"_blank\" href=https://colab.research.google.com/notebooks/data_table.ipynb>data table notebook</a>'\n",
       "            + ' to learn more about interactive tables.';\n",
       "          element.innerHTML = '';\n",
       "          dataTable['output_type'] = 'display_data';\n",
       "          await google.colab.output.renderOutput(dataTable, element);\n",
       "          const docLink = document.createElement('div');\n",
       "          docLink.innerHTML = docLinkHtml;\n",
       "          element.appendChild(docLink);\n",
       "        }\n",
       "      </script>\n",
       "    </div>\n",
       "  </div>\n",
       "  "
      ],
      "text/plain": [
       "        CreditScore           Age       Tenure        Balance  NumOfProducts  \\\n",
       "count  10000.000000  10000.000000  9091.000000   10000.000000   10000.000000   \n",
       "mean     650.528800     38.921800     4.997690   76485.889288       1.530200   \n",
       "std       96.653299     10.487806     2.894723   62397.405202       0.581654   \n",
       "min      350.000000     18.000000     0.000000       0.000000       1.000000   \n",
       "25%      584.000000     32.000000     2.000000       0.000000       1.000000   \n",
       "50%      652.000000     37.000000     5.000000   97198.540000       1.000000   \n",
       "75%      718.000000     44.000000     7.000000  127644.240000       2.000000   \n",
       "max      850.000000     92.000000    10.000000  250898.090000       4.000000   \n",
       "\n",
       "         HasCrCard  IsActiveMember  EstimatedSalary        Exited  \n",
       "count  10000.00000    10000.000000     10000.000000  10000.000000  \n",
       "mean       0.70550        0.515100    100090.239881      0.203700  \n",
       "std        0.45584        0.499797     57510.492818      0.402769  \n",
       "min        0.00000        0.000000        11.580000      0.000000  \n",
       "25%        0.00000        0.000000     51002.110000      0.000000  \n",
       "50%        1.00000        1.000000    100193.915000      0.000000  \n",
       "75%        1.00000        1.000000    149388.247500      0.000000  \n",
       "max        1.00000        1.000000    199992.480000      1.000000  "
      ]
     },
     "execution_count": 20,
     "metadata": {},
     "output_type": "execute_result"
    }
   ],
   "source": [
    "churn.describe()"
   ]
  },
  {
   "cell_type": "code",
   "execution_count": 21,
   "metadata": {
    "id": "NUc1cpdtKKi4"
   },
   "outputs": [],
   "source": [
    "churn['Tenure'] = churn['Tenure'].fillna(0)"
   ]
  },
  {
   "cell_type": "code",
   "execution_count": 22,
   "metadata": {
    "colab": {
     "base_uri": "https://localhost:8080/",
     "height": 300
    },
    "id": "2KMaWqd7Kg0C",
    "outputId": "2396aaa5-b522-45ff-feb6-b47c17b4dfc4"
   },
   "outputs": [
    {
     "data": {
      "text/html": [
       "\n",
       "  <div id=\"df-7bc370ec-37e5-4ef3-9020-3c72c35b2608\">\n",
       "    <div class=\"colab-df-container\">\n",
       "      <div>\n",
       "<style scoped>\n",
       "    .dataframe tbody tr th:only-of-type {\n",
       "        vertical-align: middle;\n",
       "    }\n",
       "\n",
       "    .dataframe tbody tr th {\n",
       "        vertical-align: top;\n",
       "    }\n",
       "\n",
       "    .dataframe thead th {\n",
       "        text-align: right;\n",
       "    }\n",
       "</style>\n",
       "<table border=\"1\" class=\"dataframe\">\n",
       "  <thead>\n",
       "    <tr style=\"text-align: right;\">\n",
       "      <th></th>\n",
       "      <th>CreditScore</th>\n",
       "      <th>Age</th>\n",
       "      <th>Tenure</th>\n",
       "      <th>Balance</th>\n",
       "      <th>NumOfProducts</th>\n",
       "      <th>HasCrCard</th>\n",
       "      <th>IsActiveMember</th>\n",
       "      <th>EstimatedSalary</th>\n",
       "      <th>Exited</th>\n",
       "    </tr>\n",
       "  </thead>\n",
       "  <tbody>\n",
       "    <tr>\n",
       "      <th>count</th>\n",
       "      <td>10000.000000</td>\n",
       "      <td>10000.000000</td>\n",
       "      <td>10000.000000</td>\n",
       "      <td>10000.000000</td>\n",
       "      <td>10000.000000</td>\n",
       "      <td>10000.00000</td>\n",
       "      <td>10000.000000</td>\n",
       "      <td>10000.000000</td>\n",
       "      <td>10000.000000</td>\n",
       "    </tr>\n",
       "    <tr>\n",
       "      <th>mean</th>\n",
       "      <td>650.528800</td>\n",
       "      <td>38.921800</td>\n",
       "      <td>4.543400</td>\n",
       "      <td>76485.889288</td>\n",
       "      <td>1.530200</td>\n",
       "      <td>0.70550</td>\n",
       "      <td>0.515100</td>\n",
       "      <td>100090.239881</td>\n",
       "      <td>0.203700</td>\n",
       "    </tr>\n",
       "    <tr>\n",
       "      <th>std</th>\n",
       "      <td>96.653299</td>\n",
       "      <td>10.487806</td>\n",
       "      <td>3.111573</td>\n",
       "      <td>62397.405202</td>\n",
       "      <td>0.581654</td>\n",
       "      <td>0.45584</td>\n",
       "      <td>0.499797</td>\n",
       "      <td>57510.492818</td>\n",
       "      <td>0.402769</td>\n",
       "    </tr>\n",
       "    <tr>\n",
       "      <th>min</th>\n",
       "      <td>350.000000</td>\n",
       "      <td>18.000000</td>\n",
       "      <td>0.000000</td>\n",
       "      <td>0.000000</td>\n",
       "      <td>1.000000</td>\n",
       "      <td>0.00000</td>\n",
       "      <td>0.000000</td>\n",
       "      <td>11.580000</td>\n",
       "      <td>0.000000</td>\n",
       "    </tr>\n",
       "    <tr>\n",
       "      <th>25%</th>\n",
       "      <td>584.000000</td>\n",
       "      <td>32.000000</td>\n",
       "      <td>2.000000</td>\n",
       "      <td>0.000000</td>\n",
       "      <td>1.000000</td>\n",
       "      <td>0.00000</td>\n",
       "      <td>0.000000</td>\n",
       "      <td>51002.110000</td>\n",
       "      <td>0.000000</td>\n",
       "    </tr>\n",
       "    <tr>\n",
       "      <th>50%</th>\n",
       "      <td>652.000000</td>\n",
       "      <td>37.000000</td>\n",
       "      <td>4.000000</td>\n",
       "      <td>97198.540000</td>\n",
       "      <td>1.000000</td>\n",
       "      <td>1.00000</td>\n",
       "      <td>1.000000</td>\n",
       "      <td>100193.915000</td>\n",
       "      <td>0.000000</td>\n",
       "    </tr>\n",
       "    <tr>\n",
       "      <th>75%</th>\n",
       "      <td>718.000000</td>\n",
       "      <td>44.000000</td>\n",
       "      <td>7.000000</td>\n",
       "      <td>127644.240000</td>\n",
       "      <td>2.000000</td>\n",
       "      <td>1.00000</td>\n",
       "      <td>1.000000</td>\n",
       "      <td>149388.247500</td>\n",
       "      <td>0.000000</td>\n",
       "    </tr>\n",
       "    <tr>\n",
       "      <th>max</th>\n",
       "      <td>850.000000</td>\n",
       "      <td>92.000000</td>\n",
       "      <td>10.000000</td>\n",
       "      <td>250898.090000</td>\n",
       "      <td>4.000000</td>\n",
       "      <td>1.00000</td>\n",
       "      <td>1.000000</td>\n",
       "      <td>199992.480000</td>\n",
       "      <td>1.000000</td>\n",
       "    </tr>\n",
       "  </tbody>\n",
       "</table>\n",
       "</div>\n",
       "      <button class=\"colab-df-convert\" onclick=\"convertToInteractive('df-7bc370ec-37e5-4ef3-9020-3c72c35b2608')\"\n",
       "              title=\"Convert this dataframe to an interactive table.\"\n",
       "              style=\"display:none;\">\n",
       "        \n",
       "  <svg xmlns=\"http://www.w3.org/2000/svg\" height=\"24px\"viewBox=\"0 0 24 24\"\n",
       "       width=\"24px\">\n",
       "    <path d=\"M0 0h24v24H0V0z\" fill=\"none\"/>\n",
       "    <path d=\"M18.56 5.44l.94 2.06.94-2.06 2.06-.94-2.06-.94-.94-2.06-.94 2.06-2.06.94zm-11 1L8.5 8.5l.94-2.06 2.06-.94-2.06-.94L8.5 2.5l-.94 2.06-2.06.94zm10 10l.94 2.06.94-2.06 2.06-.94-2.06-.94-.94-2.06-.94 2.06-2.06.94z\"/><path d=\"M17.41 7.96l-1.37-1.37c-.4-.4-.92-.59-1.43-.59-.52 0-1.04.2-1.43.59L10.3 9.45l-7.72 7.72c-.78.78-.78 2.05 0 2.83L4 21.41c.39.39.9.59 1.41.59.51 0 1.02-.2 1.41-.59l7.78-7.78 2.81-2.81c.8-.78.8-2.07 0-2.86zM5.41 20L4 18.59l7.72-7.72 1.47 1.35L5.41 20z\"/>\n",
       "  </svg>\n",
       "      </button>\n",
       "      \n",
       "  <style>\n",
       "    .colab-df-container {\n",
       "      display:flex;\n",
       "      flex-wrap:wrap;\n",
       "      gap: 12px;\n",
       "    }\n",
       "\n",
       "    .colab-df-convert {\n",
       "      background-color: #E8F0FE;\n",
       "      border: none;\n",
       "      border-radius: 50%;\n",
       "      cursor: pointer;\n",
       "      display: none;\n",
       "      fill: #1967D2;\n",
       "      height: 32px;\n",
       "      padding: 0 0 0 0;\n",
       "      width: 32px;\n",
       "    }\n",
       "\n",
       "    .colab-df-convert:hover {\n",
       "      background-color: #E2EBFA;\n",
       "      box-shadow: 0px 1px 2px rgba(60, 64, 67, 0.3), 0px 1px 3px 1px rgba(60, 64, 67, 0.15);\n",
       "      fill: #174EA6;\n",
       "    }\n",
       "\n",
       "    [theme=dark] .colab-df-convert {\n",
       "      background-color: #3B4455;\n",
       "      fill: #D2E3FC;\n",
       "    }\n",
       "\n",
       "    [theme=dark] .colab-df-convert:hover {\n",
       "      background-color: #434B5C;\n",
       "      box-shadow: 0px 1px 3px 1px rgba(0, 0, 0, 0.15);\n",
       "      filter: drop-shadow(0px 1px 2px rgba(0, 0, 0, 0.3));\n",
       "      fill: #FFFFFF;\n",
       "    }\n",
       "  </style>\n",
       "\n",
       "      <script>\n",
       "        const buttonEl =\n",
       "          document.querySelector('#df-7bc370ec-37e5-4ef3-9020-3c72c35b2608 button.colab-df-convert');\n",
       "        buttonEl.style.display =\n",
       "          google.colab.kernel.accessAllowed ? 'block' : 'none';\n",
       "\n",
       "        async function convertToInteractive(key) {\n",
       "          const element = document.querySelector('#df-7bc370ec-37e5-4ef3-9020-3c72c35b2608');\n",
       "          const dataTable =\n",
       "            await google.colab.kernel.invokeFunction('convertToInteractive',\n",
       "                                                     [key], {});\n",
       "          if (!dataTable) return;\n",
       "\n",
       "          const docLinkHtml = 'Like what you see? Visit the ' +\n",
       "            '<a target=\"_blank\" href=https://colab.research.google.com/notebooks/data_table.ipynb>data table notebook</a>'\n",
       "            + ' to learn more about interactive tables.';\n",
       "          element.innerHTML = '';\n",
       "          dataTable['output_type'] = 'display_data';\n",
       "          await google.colab.output.renderOutput(dataTable, element);\n",
       "          const docLink = document.createElement('div');\n",
       "          docLink.innerHTML = docLinkHtml;\n",
       "          element.appendChild(docLink);\n",
       "        }\n",
       "      </script>\n",
       "    </div>\n",
       "  </div>\n",
       "  "
      ],
      "text/plain": [
       "        CreditScore           Age        Tenure        Balance  NumOfProducts  \\\n",
       "count  10000.000000  10000.000000  10000.000000   10000.000000   10000.000000   \n",
       "mean     650.528800     38.921800      4.543400   76485.889288       1.530200   \n",
       "std       96.653299     10.487806      3.111573   62397.405202       0.581654   \n",
       "min      350.000000     18.000000      0.000000       0.000000       1.000000   \n",
       "25%      584.000000     32.000000      2.000000       0.000000       1.000000   \n",
       "50%      652.000000     37.000000      4.000000   97198.540000       1.000000   \n",
       "75%      718.000000     44.000000      7.000000  127644.240000       2.000000   \n",
       "max      850.000000     92.000000     10.000000  250898.090000       4.000000   \n",
       "\n",
       "         HasCrCard  IsActiveMember  EstimatedSalary        Exited  \n",
       "count  10000.00000    10000.000000     10000.000000  10000.000000  \n",
       "mean       0.70550        0.515100    100090.239881      0.203700  \n",
       "std        0.45584        0.499797     57510.492818      0.402769  \n",
       "min        0.00000        0.000000        11.580000      0.000000  \n",
       "25%        0.00000        0.000000     51002.110000      0.000000  \n",
       "50%        1.00000        1.000000    100193.915000      0.000000  \n",
       "75%        1.00000        1.000000    149388.247500      0.000000  \n",
       "max        1.00000        1.000000    199992.480000      1.000000  "
      ]
     },
     "execution_count": 22,
     "metadata": {},
     "output_type": "execute_result"
    }
   ],
   "source": [
    "churn.describe()"
   ]
  },
  {
   "cell_type": "markdown",
   "metadata": {
    "id": "pAUpZIF0WU8M"
   },
   "source": [
    "Como era de esperarse, la diferencia no fué demasaida, por lo que se puede decir que no afectará demasiado las conclusiones de nuestro modelo."
   ]
  },
  {
   "cell_type": "markdown",
   "metadata": {
    "id": "LuMxl-FrWi1Q"
   },
   "source": [
    "Para estudiar algunas características, se procede a encontrar la distribución de los datos para personas que salieron de la empresa y las que no, y poder ver si hay algún factor que determine a simple vista la salidad de los mismos."
   ]
  },
  {
   "cell_type": "code",
   "execution_count": 23,
   "metadata": {
    "colab": {
     "base_uri": "https://localhost:8080/",
     "height": 300
    },
    "id": "2BUKsnPTdmOl",
    "outputId": "847f80b9-37ee-4c1d-bbeb-3e1b849d2b3c"
   },
   "outputs": [
    {
     "data": {
      "text/html": [
       "\n",
       "  <div id=\"df-23ae13ba-16bc-4bee-a655-b0ade5d2b312\">\n",
       "    <div class=\"colab-df-container\">\n",
       "      <div>\n",
       "<style scoped>\n",
       "    .dataframe tbody tr th:only-of-type {\n",
       "        vertical-align: middle;\n",
       "    }\n",
       "\n",
       "    .dataframe tbody tr th {\n",
       "        vertical-align: top;\n",
       "    }\n",
       "\n",
       "    .dataframe thead th {\n",
       "        text-align: right;\n",
       "    }\n",
       "</style>\n",
       "<table border=\"1\" class=\"dataframe\">\n",
       "  <thead>\n",
       "    <tr style=\"text-align: right;\">\n",
       "      <th></th>\n",
       "      <th>CreditScore</th>\n",
       "      <th>Age</th>\n",
       "      <th>Tenure</th>\n",
       "      <th>Balance</th>\n",
       "      <th>NumOfProducts</th>\n",
       "      <th>HasCrCard</th>\n",
       "      <th>IsActiveMember</th>\n",
       "      <th>EstimatedSalary</th>\n",
       "      <th>Exited</th>\n",
       "    </tr>\n",
       "  </thead>\n",
       "  <tbody>\n",
       "    <tr>\n",
       "      <th>count</th>\n",
       "      <td>7963.000000</td>\n",
       "      <td>7963.000000</td>\n",
       "      <td>7963.000000</td>\n",
       "      <td>7963.000000</td>\n",
       "      <td>7963.000000</td>\n",
       "      <td>7963.000000</td>\n",
       "      <td>7963.000000</td>\n",
       "      <td>7963.000000</td>\n",
       "      <td>7963.0</td>\n",
       "    </tr>\n",
       "    <tr>\n",
       "      <th>mean</th>\n",
       "      <td>651.853196</td>\n",
       "      <td>37.408389</td>\n",
       "      <td>4.564360</td>\n",
       "      <td>72745.296779</td>\n",
       "      <td>1.544267</td>\n",
       "      <td>0.707146</td>\n",
       "      <td>0.554565</td>\n",
       "      <td>99738.391772</td>\n",
       "      <td>0.0</td>\n",
       "    </tr>\n",
       "    <tr>\n",
       "      <th>std</th>\n",
       "      <td>95.653837</td>\n",
       "      <td>10.125363</td>\n",
       "      <td>3.104189</td>\n",
       "      <td>62848.040701</td>\n",
       "      <td>0.509536</td>\n",
       "      <td>0.455101</td>\n",
       "      <td>0.497045</td>\n",
       "      <td>57405.586966</td>\n",
       "      <td>0.0</td>\n",
       "    </tr>\n",
       "    <tr>\n",
       "      <th>min</th>\n",
       "      <td>405.000000</td>\n",
       "      <td>18.000000</td>\n",
       "      <td>0.000000</td>\n",
       "      <td>0.000000</td>\n",
       "      <td>1.000000</td>\n",
       "      <td>0.000000</td>\n",
       "      <td>0.000000</td>\n",
       "      <td>90.070000</td>\n",
       "      <td>0.0</td>\n",
       "    </tr>\n",
       "    <tr>\n",
       "      <th>25%</th>\n",
       "      <td>585.000000</td>\n",
       "      <td>31.000000</td>\n",
       "      <td>2.000000</td>\n",
       "      <td>0.000000</td>\n",
       "      <td>1.000000</td>\n",
       "      <td>0.000000</td>\n",
       "      <td>0.000000</td>\n",
       "      <td>50783.490000</td>\n",
       "      <td>0.0</td>\n",
       "    </tr>\n",
       "    <tr>\n",
       "      <th>50%</th>\n",
       "      <td>653.000000</td>\n",
       "      <td>36.000000</td>\n",
       "      <td>5.000000</td>\n",
       "      <td>92072.680000</td>\n",
       "      <td>2.000000</td>\n",
       "      <td>1.000000</td>\n",
       "      <td>1.000000</td>\n",
       "      <td>99645.040000</td>\n",
       "      <td>0.0</td>\n",
       "    </tr>\n",
       "    <tr>\n",
       "      <th>75%</th>\n",
       "      <td>718.000000</td>\n",
       "      <td>41.000000</td>\n",
       "      <td>7.000000</td>\n",
       "      <td>126410.280000</td>\n",
       "      <td>2.000000</td>\n",
       "      <td>1.000000</td>\n",
       "      <td>1.000000</td>\n",
       "      <td>148609.955000</td>\n",
       "      <td>0.0</td>\n",
       "    </tr>\n",
       "    <tr>\n",
       "      <th>max</th>\n",
       "      <td>850.000000</td>\n",
       "      <td>92.000000</td>\n",
       "      <td>10.000000</td>\n",
       "      <td>221532.800000</td>\n",
       "      <td>3.000000</td>\n",
       "      <td>1.000000</td>\n",
       "      <td>1.000000</td>\n",
       "      <td>199992.480000</td>\n",
       "      <td>0.0</td>\n",
       "    </tr>\n",
       "  </tbody>\n",
       "</table>\n",
       "</div>\n",
       "      <button class=\"colab-df-convert\" onclick=\"convertToInteractive('df-23ae13ba-16bc-4bee-a655-b0ade5d2b312')\"\n",
       "              title=\"Convert this dataframe to an interactive table.\"\n",
       "              style=\"display:none;\">\n",
       "        \n",
       "  <svg xmlns=\"http://www.w3.org/2000/svg\" height=\"24px\"viewBox=\"0 0 24 24\"\n",
       "       width=\"24px\">\n",
       "    <path d=\"M0 0h24v24H0V0z\" fill=\"none\"/>\n",
       "    <path d=\"M18.56 5.44l.94 2.06.94-2.06 2.06-.94-2.06-.94-.94-2.06-.94 2.06-2.06.94zm-11 1L8.5 8.5l.94-2.06 2.06-.94-2.06-.94L8.5 2.5l-.94 2.06-2.06.94zm10 10l.94 2.06.94-2.06 2.06-.94-2.06-.94-.94-2.06-.94 2.06-2.06.94z\"/><path d=\"M17.41 7.96l-1.37-1.37c-.4-.4-.92-.59-1.43-.59-.52 0-1.04.2-1.43.59L10.3 9.45l-7.72 7.72c-.78.78-.78 2.05 0 2.83L4 21.41c.39.39.9.59 1.41.59.51 0 1.02-.2 1.41-.59l7.78-7.78 2.81-2.81c.8-.78.8-2.07 0-2.86zM5.41 20L4 18.59l7.72-7.72 1.47 1.35L5.41 20z\"/>\n",
       "  </svg>\n",
       "      </button>\n",
       "      \n",
       "  <style>\n",
       "    .colab-df-container {\n",
       "      display:flex;\n",
       "      flex-wrap:wrap;\n",
       "      gap: 12px;\n",
       "    }\n",
       "\n",
       "    .colab-df-convert {\n",
       "      background-color: #E8F0FE;\n",
       "      border: none;\n",
       "      border-radius: 50%;\n",
       "      cursor: pointer;\n",
       "      display: none;\n",
       "      fill: #1967D2;\n",
       "      height: 32px;\n",
       "      padding: 0 0 0 0;\n",
       "      width: 32px;\n",
       "    }\n",
       "\n",
       "    .colab-df-convert:hover {\n",
       "      background-color: #E2EBFA;\n",
       "      box-shadow: 0px 1px 2px rgba(60, 64, 67, 0.3), 0px 1px 3px 1px rgba(60, 64, 67, 0.15);\n",
       "      fill: #174EA6;\n",
       "    }\n",
       "\n",
       "    [theme=dark] .colab-df-convert {\n",
       "      background-color: #3B4455;\n",
       "      fill: #D2E3FC;\n",
       "    }\n",
       "\n",
       "    [theme=dark] .colab-df-convert:hover {\n",
       "      background-color: #434B5C;\n",
       "      box-shadow: 0px 1px 3px 1px rgba(0, 0, 0, 0.15);\n",
       "      filter: drop-shadow(0px 1px 2px rgba(0, 0, 0, 0.3));\n",
       "      fill: #FFFFFF;\n",
       "    }\n",
       "  </style>\n",
       "\n",
       "      <script>\n",
       "        const buttonEl =\n",
       "          document.querySelector('#df-23ae13ba-16bc-4bee-a655-b0ade5d2b312 button.colab-df-convert');\n",
       "        buttonEl.style.display =\n",
       "          google.colab.kernel.accessAllowed ? 'block' : 'none';\n",
       "\n",
       "        async function convertToInteractive(key) {\n",
       "          const element = document.querySelector('#df-23ae13ba-16bc-4bee-a655-b0ade5d2b312');\n",
       "          const dataTable =\n",
       "            await google.colab.kernel.invokeFunction('convertToInteractive',\n",
       "                                                     [key], {});\n",
       "          if (!dataTable) return;\n",
       "\n",
       "          const docLinkHtml = 'Like what you see? Visit the ' +\n",
       "            '<a target=\"_blank\" href=https://colab.research.google.com/notebooks/data_table.ipynb>data table notebook</a>'\n",
       "            + ' to learn more about interactive tables.';\n",
       "          element.innerHTML = '';\n",
       "          dataTable['output_type'] = 'display_data';\n",
       "          await google.colab.output.renderOutput(dataTable, element);\n",
       "          const docLink = document.createElement('div');\n",
       "          docLink.innerHTML = docLinkHtml;\n",
       "          element.appendChild(docLink);\n",
       "        }\n",
       "      </script>\n",
       "    </div>\n",
       "  </div>\n",
       "  "
      ],
      "text/plain": [
       "       CreditScore          Age       Tenure        Balance  NumOfProducts  \\\n",
       "count  7963.000000  7963.000000  7963.000000    7963.000000    7963.000000   \n",
       "mean    651.853196    37.408389     4.564360   72745.296779       1.544267   \n",
       "std      95.653837    10.125363     3.104189   62848.040701       0.509536   \n",
       "min     405.000000    18.000000     0.000000       0.000000       1.000000   \n",
       "25%     585.000000    31.000000     2.000000       0.000000       1.000000   \n",
       "50%     653.000000    36.000000     5.000000   92072.680000       2.000000   \n",
       "75%     718.000000    41.000000     7.000000  126410.280000       2.000000   \n",
       "max     850.000000    92.000000    10.000000  221532.800000       3.000000   \n",
       "\n",
       "         HasCrCard  IsActiveMember  EstimatedSalary  Exited  \n",
       "count  7963.000000     7963.000000      7963.000000  7963.0  \n",
       "mean      0.707146        0.554565     99738.391772     0.0  \n",
       "std       0.455101        0.497045     57405.586966     0.0  \n",
       "min       0.000000        0.000000        90.070000     0.0  \n",
       "25%       0.000000        0.000000     50783.490000     0.0  \n",
       "50%       1.000000        1.000000     99645.040000     0.0  \n",
       "75%       1.000000        1.000000    148609.955000     0.0  \n",
       "max       1.000000        1.000000    199992.480000     0.0  "
      ]
     },
     "execution_count": 23,
     "metadata": {},
     "output_type": "execute_result"
    }
   ],
   "source": [
    "churn[churn['Exited']==0].describe()"
   ]
  },
  {
   "cell_type": "code",
   "execution_count": 24,
   "metadata": {
    "colab": {
     "base_uri": "https://localhost:8080/",
     "height": 300
    },
    "id": "843BfNHfdzmn",
    "outputId": "f378925c-9e39-453d-b7b8-d9b494a3367d"
   },
   "outputs": [
    {
     "data": {
      "text/html": [
       "\n",
       "  <div id=\"df-d62bf713-ed32-4dc3-b6c4-141bd5c570db\">\n",
       "    <div class=\"colab-df-container\">\n",
       "      <div>\n",
       "<style scoped>\n",
       "    .dataframe tbody tr th:only-of-type {\n",
       "        vertical-align: middle;\n",
       "    }\n",
       "\n",
       "    .dataframe tbody tr th {\n",
       "        vertical-align: top;\n",
       "    }\n",
       "\n",
       "    .dataframe thead th {\n",
       "        text-align: right;\n",
       "    }\n",
       "</style>\n",
       "<table border=\"1\" class=\"dataframe\">\n",
       "  <thead>\n",
       "    <tr style=\"text-align: right;\">\n",
       "      <th></th>\n",
       "      <th>CreditScore</th>\n",
       "      <th>Age</th>\n",
       "      <th>Tenure</th>\n",
       "      <th>Balance</th>\n",
       "      <th>NumOfProducts</th>\n",
       "      <th>HasCrCard</th>\n",
       "      <th>IsActiveMember</th>\n",
       "      <th>EstimatedSalary</th>\n",
       "      <th>Exited</th>\n",
       "    </tr>\n",
       "  </thead>\n",
       "  <tbody>\n",
       "    <tr>\n",
       "      <th>count</th>\n",
       "      <td>2037.000000</td>\n",
       "      <td>2037.000000</td>\n",
       "      <td>2037.000000</td>\n",
       "      <td>2037.000000</td>\n",
       "      <td>2037.000000</td>\n",
       "      <td>2037.000000</td>\n",
       "      <td>2037.000000</td>\n",
       "      <td>2037.000000</td>\n",
       "      <td>2037.0</td>\n",
       "    </tr>\n",
       "    <tr>\n",
       "      <th>mean</th>\n",
       "      <td>645.351497</td>\n",
       "      <td>44.837997</td>\n",
       "      <td>4.461463</td>\n",
       "      <td>91108.539337</td>\n",
       "      <td>1.475209</td>\n",
       "      <td>0.699067</td>\n",
       "      <td>0.360825</td>\n",
       "      <td>101465.677531</td>\n",
       "      <td>1.0</td>\n",
       "    </tr>\n",
       "    <tr>\n",
       "      <th>std</th>\n",
       "      <td>100.321503</td>\n",
       "      <td>9.761562</td>\n",
       "      <td>3.139693</td>\n",
       "      <td>58360.794816</td>\n",
       "      <td>0.801521</td>\n",
       "      <td>0.458776</td>\n",
       "      <td>0.480358</td>\n",
       "      <td>57912.418071</td>\n",
       "      <td>0.0</td>\n",
       "    </tr>\n",
       "    <tr>\n",
       "      <th>min</th>\n",
       "      <td>350.000000</td>\n",
       "      <td>18.000000</td>\n",
       "      <td>0.000000</td>\n",
       "      <td>0.000000</td>\n",
       "      <td>1.000000</td>\n",
       "      <td>0.000000</td>\n",
       "      <td>0.000000</td>\n",
       "      <td>11.580000</td>\n",
       "      <td>1.0</td>\n",
       "    </tr>\n",
       "    <tr>\n",
       "      <th>25%</th>\n",
       "      <td>578.000000</td>\n",
       "      <td>38.000000</td>\n",
       "      <td>2.000000</td>\n",
       "      <td>38340.020000</td>\n",
       "      <td>1.000000</td>\n",
       "      <td>0.000000</td>\n",
       "      <td>0.000000</td>\n",
       "      <td>51907.720000</td>\n",
       "      <td>1.0</td>\n",
       "    </tr>\n",
       "    <tr>\n",
       "      <th>50%</th>\n",
       "      <td>646.000000</td>\n",
       "      <td>45.000000</td>\n",
       "      <td>4.000000</td>\n",
       "      <td>109349.290000</td>\n",
       "      <td>1.000000</td>\n",
       "      <td>1.000000</td>\n",
       "      <td>0.000000</td>\n",
       "      <td>102460.840000</td>\n",
       "      <td>1.0</td>\n",
       "    </tr>\n",
       "    <tr>\n",
       "      <th>75%</th>\n",
       "      <td>716.000000</td>\n",
       "      <td>51.000000</td>\n",
       "      <td>7.000000</td>\n",
       "      <td>131433.330000</td>\n",
       "      <td>2.000000</td>\n",
       "      <td>1.000000</td>\n",
       "      <td>1.000000</td>\n",
       "      <td>152422.910000</td>\n",
       "      <td>1.0</td>\n",
       "    </tr>\n",
       "    <tr>\n",
       "      <th>max</th>\n",
       "      <td>850.000000</td>\n",
       "      <td>84.000000</td>\n",
       "      <td>10.000000</td>\n",
       "      <td>250898.090000</td>\n",
       "      <td>4.000000</td>\n",
       "      <td>1.000000</td>\n",
       "      <td>1.000000</td>\n",
       "      <td>199808.100000</td>\n",
       "      <td>1.0</td>\n",
       "    </tr>\n",
       "  </tbody>\n",
       "</table>\n",
       "</div>\n",
       "      <button class=\"colab-df-convert\" onclick=\"convertToInteractive('df-d62bf713-ed32-4dc3-b6c4-141bd5c570db')\"\n",
       "              title=\"Convert this dataframe to an interactive table.\"\n",
       "              style=\"display:none;\">\n",
       "        \n",
       "  <svg xmlns=\"http://www.w3.org/2000/svg\" height=\"24px\"viewBox=\"0 0 24 24\"\n",
       "       width=\"24px\">\n",
       "    <path d=\"M0 0h24v24H0V0z\" fill=\"none\"/>\n",
       "    <path d=\"M18.56 5.44l.94 2.06.94-2.06 2.06-.94-2.06-.94-.94-2.06-.94 2.06-2.06.94zm-11 1L8.5 8.5l.94-2.06 2.06-.94-2.06-.94L8.5 2.5l-.94 2.06-2.06.94zm10 10l.94 2.06.94-2.06 2.06-.94-2.06-.94-.94-2.06-.94 2.06-2.06.94z\"/><path d=\"M17.41 7.96l-1.37-1.37c-.4-.4-.92-.59-1.43-.59-.52 0-1.04.2-1.43.59L10.3 9.45l-7.72 7.72c-.78.78-.78 2.05 0 2.83L4 21.41c.39.39.9.59 1.41.59.51 0 1.02-.2 1.41-.59l7.78-7.78 2.81-2.81c.8-.78.8-2.07 0-2.86zM5.41 20L4 18.59l7.72-7.72 1.47 1.35L5.41 20z\"/>\n",
       "  </svg>\n",
       "      </button>\n",
       "      \n",
       "  <style>\n",
       "    .colab-df-container {\n",
       "      display:flex;\n",
       "      flex-wrap:wrap;\n",
       "      gap: 12px;\n",
       "    }\n",
       "\n",
       "    .colab-df-convert {\n",
       "      background-color: #E8F0FE;\n",
       "      border: none;\n",
       "      border-radius: 50%;\n",
       "      cursor: pointer;\n",
       "      display: none;\n",
       "      fill: #1967D2;\n",
       "      height: 32px;\n",
       "      padding: 0 0 0 0;\n",
       "      width: 32px;\n",
       "    }\n",
       "\n",
       "    .colab-df-convert:hover {\n",
       "      background-color: #E2EBFA;\n",
       "      box-shadow: 0px 1px 2px rgba(60, 64, 67, 0.3), 0px 1px 3px 1px rgba(60, 64, 67, 0.15);\n",
       "      fill: #174EA6;\n",
       "    }\n",
       "\n",
       "    [theme=dark] .colab-df-convert {\n",
       "      background-color: #3B4455;\n",
       "      fill: #D2E3FC;\n",
       "    }\n",
       "\n",
       "    [theme=dark] .colab-df-convert:hover {\n",
       "      background-color: #434B5C;\n",
       "      box-shadow: 0px 1px 3px 1px rgba(0, 0, 0, 0.15);\n",
       "      filter: drop-shadow(0px 1px 2px rgba(0, 0, 0, 0.3));\n",
       "      fill: #FFFFFF;\n",
       "    }\n",
       "  </style>\n",
       "\n",
       "      <script>\n",
       "        const buttonEl =\n",
       "          document.querySelector('#df-d62bf713-ed32-4dc3-b6c4-141bd5c570db button.colab-df-convert');\n",
       "        buttonEl.style.display =\n",
       "          google.colab.kernel.accessAllowed ? 'block' : 'none';\n",
       "\n",
       "        async function convertToInteractive(key) {\n",
       "          const element = document.querySelector('#df-d62bf713-ed32-4dc3-b6c4-141bd5c570db');\n",
       "          const dataTable =\n",
       "            await google.colab.kernel.invokeFunction('convertToInteractive',\n",
       "                                                     [key], {});\n",
       "          if (!dataTable) return;\n",
       "\n",
       "          const docLinkHtml = 'Like what you see? Visit the ' +\n",
       "            '<a target=\"_blank\" href=https://colab.research.google.com/notebooks/data_table.ipynb>data table notebook</a>'\n",
       "            + ' to learn more about interactive tables.';\n",
       "          element.innerHTML = '';\n",
       "          dataTable['output_type'] = 'display_data';\n",
       "          await google.colab.output.renderOutput(dataTable, element);\n",
       "          const docLink = document.createElement('div');\n",
       "          docLink.innerHTML = docLinkHtml;\n",
       "          element.appendChild(docLink);\n",
       "        }\n",
       "      </script>\n",
       "    </div>\n",
       "  </div>\n",
       "  "
      ],
      "text/plain": [
       "       CreditScore          Age       Tenure        Balance  NumOfProducts  \\\n",
       "count  2037.000000  2037.000000  2037.000000    2037.000000    2037.000000   \n",
       "mean    645.351497    44.837997     4.461463   91108.539337       1.475209   \n",
       "std     100.321503     9.761562     3.139693   58360.794816       0.801521   \n",
       "min     350.000000    18.000000     0.000000       0.000000       1.000000   \n",
       "25%     578.000000    38.000000     2.000000   38340.020000       1.000000   \n",
       "50%     646.000000    45.000000     4.000000  109349.290000       1.000000   \n",
       "75%     716.000000    51.000000     7.000000  131433.330000       2.000000   \n",
       "max     850.000000    84.000000    10.000000  250898.090000       4.000000   \n",
       "\n",
       "         HasCrCard  IsActiveMember  EstimatedSalary  Exited  \n",
       "count  2037.000000     2037.000000      2037.000000  2037.0  \n",
       "mean      0.699067        0.360825    101465.677531     1.0  \n",
       "std       0.458776        0.480358     57912.418071     0.0  \n",
       "min       0.000000        0.000000        11.580000     1.0  \n",
       "25%       0.000000        0.000000     51907.720000     1.0  \n",
       "50%       1.000000        0.000000    102460.840000     1.0  \n",
       "75%       1.000000        1.000000    152422.910000     1.0  \n",
       "max       1.000000        1.000000    199808.100000     1.0  "
      ]
     },
     "execution_count": 24,
     "metadata": {},
     "output_type": "execute_result"
    }
   ],
   "source": [
    "churn[churn['Exited']==1].describe()"
   ]
  },
  {
   "cell_type": "markdown",
   "metadata": {
    "id": "h5JrjtsRYP6D"
   },
   "source": [
    "### CONCLUSIÓN INTERMEDIA\n",
    "\n",
    "Primeramente se observó la presencia de algunos valores ausnetes en la columna de `Tenure` el cual contiene información sobre el período durante el cual ha madurado el depósito a plazo fijo de un cliente (años) cuya ausencia lo que puede significar que no posee ningún depósito de este típo, por lo cual el espacio se dejó en blanco y para no perder las caracteríasticas simplemenete sustituiremos el valor por 0.\n",
    "\n",
    "Además no existe un valor demasiado claro que nos permita determinar si un cliente se irá o no, vemos que las variaciones son bastente sutiles, es por eso que se recurre al Machine Learning"
   ]
  },
  {
   "cell_type": "markdown",
   "metadata": {
    "id": "wkuMFT9vYqoJ"
   },
   "source": [
    "## **ALGORITMO DE MACHINE LEARNING**"
   ]
  },
  {
   "cell_type": "markdown",
   "metadata": {
    "id": "i1Urc5uD3DP5"
   },
   "source": [
    "### Regresión logística"
   ]
  },
  {
   "cell_type": "markdown",
   "metadata": {
    "id": "JowyeQlAY0pf"
   },
   "source": [
    "Primeramente, como se tienene características que no son numéricas, se decide optar por una separación de los datos por medio de variable dummies, que nos permite asignarar valores numéricos de 1 y 0 dependiendo de si el caso cumple o no y eliminamos la última columna que se sobreentiende."
   ]
  },
  {
   "cell_type": "code",
   "execution_count": 25,
   "metadata": {
    "id": "r9DMDW0DL1sG"
   },
   "outputs": [],
   "source": [
    "data_ohe = pd.get_dummies(churn, drop_first=True)\n",
    "target = data_ohe['Exited'] \n",
    "features = data_ohe.drop('Exited', axis=1) \n",
    "features_train, features_valid, target_train, target_valid = train_test_split( features, target, test_size=0.4, random_state=12345)\n",
    "features_valid, features_probe,  target_valid, target_probe = train_test_split( features_valid, target_valid, test_size=0.5, random_state=12345)"
   ]
  },
  {
   "cell_type": "markdown",
   "metadata": {
    "id": "AdsOj2CsZyB4"
   },
   "source": [
    "Luego entrenamos un modelo de `LogisticRegression` sin tomar en cuenta el desequilibrio de los valores"
   ]
  },
  {
   "cell_type": "code",
   "execution_count": 26,
   "metadata": {
    "colab": {
     "base_uri": "https://localhost:8080/"
    },
    "id": "79xu9OqZwD20",
    "outputId": "f7114470-f34d-44f2-bbd9-d52d84fbed0d"
   },
   "outputs": [
    {
     "name": "stdout",
     "output_type": "stream",
     "text": [
      "F1: 0.08385744234800838\n"
     ]
    }
   ],
   "source": [
    "model = LogisticRegression(random_state = 12345, solver = 'liblinear')\n",
    "model.fit(features_train,target_train)\n",
    "predicted_valid = model.predict(features_valid)\n",
    "print('F1:', f1_score(target_valid, predicted_valid))"
   ]
  },
  {
   "cell_type": "markdown",
   "metadata": {
    "id": "Bm--a0b1Z8Pw"
   },
   "source": [
    "Como podemos ver la relación de el recall y la presición es nula, por lo que se procede a escalar los valores para poder entrenar el modelo"
   ]
  },
  {
   "cell_type": "code",
   "execution_count": 27,
   "metadata": {
    "id": "QptHS4mfbc7M"
   },
   "outputs": [],
   "source": [
    "scaler = StandardScaler()\n",
    "scaler.fit(features_train)\n",
    "features_train2 = scaler.transform(features_train)\n",
    "features_valid2 = scaler.transform(features_valid)"
   ]
  },
  {
   "cell_type": "markdown",
   "metadata": {
    "id": "nXVJ4dsQaH4Z"
   },
   "source": [
    "Volvemos a entrenar y observamos el valor de F1"
   ]
  },
  {
   "cell_type": "code",
   "execution_count": 28,
   "metadata": {
    "colab": {
     "base_uri": "https://localhost:8080/"
    },
    "id": "Fa6YFqaQdJ-y",
    "outputId": "a3a3a0ca-22ee-49c0-83d5-08c9580b52a6"
   },
   "outputs": [
    {
     "name": "stdout",
     "output_type": "stream",
     "text": [
      "F1: 0.3333333333333333\n"
     ]
    }
   ],
   "source": [
    "model = LogisticRegression(random_state = 12345, solver = 'liblinear')\n",
    "model.fit(features_train2,target_train)\n",
    "predicted_valid = model.predict(features_valid2)\n",
    "print('F1:', f1_score(target_valid, predicted_valid))"
   ]
  },
  {
   "cell_type": "markdown",
   "metadata": {
    "id": "cha3KFgmaMrr"
   },
   "source": [
    "Como se puede observar, el valor de `F1` aumentó, sin embargo, sigue siendo demasiado bajo, por lo que se decide cambiar de enfoque, y utilizar el sobremuestro, para ello se crea la función `upsample` que nos permite aplicar este método y devolver 2 conjuntos sobremuestreados"
   ]
  },
  {
   "cell_type": "code",
   "execution_count": 29,
   "metadata": {
    "id": "5zQRrp87hZck"
   },
   "outputs": [],
   "source": [
    "def upsample(features,target,repeat):\n",
    "    features_zeros = features[target== 0]\n",
    "    features_ones = features[target == 1]\n",
    "    target_zeros = target[target== 0]\n",
    "    target_ones = target[target == 1]\n",
    "    agg1 = pd.concat([features_zeros] + [features_ones] * repeat)\n",
    "    agg2 = pd.concat([target_zeros] + [target_ones] * repeat)\n",
    "    features_upsampled, target_upsampled = shuffle(agg1, agg2, random_state=12345)\n",
    "    return features_upsampled, target_upsampled \n",
    "  "
   ]
  },
  {
   "cell_type": "markdown",
   "metadata": {
    "id": "Hri8Dc2ya2Ry"
   },
   "source": [
    "Se procede a enconrar el mejor modelo, probando diferentes combinaciones de sobremuestreo hasta llegar al valor más alto de F1 posible"
   ]
  },
  {
   "cell_type": "code",
   "execution_count": 30,
   "metadata": {
    "colab": {
     "base_uri": "https://localhost:8080/"
    },
    "id": "PKjTZl8tikpS",
    "outputId": "ad795493-e071-45d6-c824-7de292c00295"
   },
   "outputs": [
    {
     "name": "stdout",
     "output_type": "stream",
     "text": [
      "El mejor valor de F1 encontrado es:  0.45286059629331177 con: 4 repeticiones\n"
     ]
    }
   ],
   "source": [
    "best_repeat = 0\n",
    "best_f1 = 0\n",
    "best_model = None\n",
    "for i in range(1,20):\n",
    "  features_upsampled, target_upsampled = upsample(features_train, target_train, i)\n",
    "  model = LogisticRegression(random_state = 12345, solver = 'liblinear')\n",
    "  model.fit(features_upsampled, target_upsampled)\n",
    "  predicted_valid = model.predict(features_valid)\n",
    "  f1 = f1_score(target_valid, predicted_valid)\n",
    "  if f1 > best_f1:\n",
    "    best_f1 = f1\n",
    "    best_repeat = i\n",
    "    best_model = model\n",
    "print('El mejor valor de F1 encontrado es: ',best_f1, 'con:',best_repeat,'repeticiones')"
   ]
  },
  {
   "cell_type": "markdown",
   "metadata": {
    "id": "fkVVveDcbCd1"
   },
   "source": [
    "Como se observa, intentando hasta 20 repetiiciones de los valores, la mejor combinación nos arrojó un valor mucho mejor de 0.45, con 4 repeticiones, sin embargo sigue siendo bajo, se procede a modificar el umbral para aumentar un poco el valor de `F1` y determinar si ahora si tiene un valor mejor"
   ]
  },
  {
   "cell_type": "code",
   "execution_count": 31,
   "metadata": {
    "colab": {
     "base_uri": "https://localhost:8080/"
    },
    "id": "jOpyX2MTipc5",
    "outputId": "4069e629-1bf2-4dd3-c3f2-b90e2e0c8937"
   },
   "outputs": [
    {
     "name": "stdout",
     "output_type": "stream",
     "text": [
      "Threshold = 0.00 | Precision = 0.209, Recall = 1.000, f1 = 0.346\n",
      "Threshold = 0.02 | Precision = 0.209, Recall = 1.000, f1 = 0.346\n",
      "Threshold = 0.04 | Precision = 0.209, Recall = 1.000, f1 = 0.346\n",
      "Threshold = 0.06 | Precision = 0.209, Recall = 1.000, f1 = 0.346\n",
      "Threshold = 0.08 | Precision = 0.209, Recall = 1.000, f1 = 0.346\n",
      "Threshold = 0.10 | Precision = 0.209, Recall = 1.000, f1 = 0.346\n",
      "Threshold = 0.12 | Precision = 0.210, Recall = 1.000, f1 = 0.347\n",
      "Threshold = 0.14 | Precision = 0.211, Recall = 1.000, f1 = 0.348\n",
      "Threshold = 0.16 | Precision = 0.213, Recall = 1.000, f1 = 0.351\n",
      "Threshold = 0.18 | Precision = 0.215, Recall = 0.998, f1 = 0.354\n",
      "Threshold = 0.20 | Precision = 0.217, Recall = 0.995, f1 = 0.356\n",
      "Threshold = 0.22 | Precision = 0.219, Recall = 0.988, f1 = 0.359\n",
      "Threshold = 0.24 | Precision = 0.222, Recall = 0.981, f1 = 0.363\n",
      "Threshold = 0.26 | Precision = 0.225, Recall = 0.971, f1 = 0.365\n",
      "Threshold = 0.28 | Precision = 0.231, Recall = 0.964, f1 = 0.373\n",
      "Threshold = 0.30 | Precision = 0.239, Recall = 0.959, f1 = 0.383\n",
      "Threshold = 0.32 | Precision = 0.248, Recall = 0.945, f1 = 0.393\n",
      "Threshold = 0.34 | Precision = 0.258, Recall = 0.940, f1 = 0.405\n",
      "Threshold = 0.36 | Precision = 0.265, Recall = 0.916, f1 = 0.411\n",
      "Threshold = 0.38 | Precision = 0.271, Recall = 0.885, f1 = 0.415\n",
      "Threshold = 0.40 | Precision = 0.281, Recall = 0.861, f1 = 0.423\n",
      "Threshold = 0.42 | Precision = 0.291, Recall = 0.830, f1 = 0.431\n",
      "Threshold = 0.44 | Precision = 0.303, Recall = 0.789, f1 = 0.438\n",
      "Threshold = 0.46 | Precision = 0.311, Recall = 0.749, f1 = 0.439\n",
      "Threshold = 0.48 | Precision = 0.322, Recall = 0.711, f1 = 0.443\n",
      "Threshold = 0.50 | Precision = 0.341, Recall = 0.672, f1 = 0.453\n",
      "Threshold = 0.52 | Precision = 0.355, Recall = 0.636, f1 = 0.456\n",
      "Threshold = 0.54 | Precision = 0.376, Recall = 0.603, f1 = 0.463\n",
      "Threshold = 0.56 | Precision = 0.387, Recall = 0.565, f1 = 0.459\n",
      "Threshold = 0.58 | Precision = 0.393, Recall = 0.512, f1 = 0.444\n",
      "Threshold = 0.60 | Precision = 0.403, Recall = 0.447, f1 = 0.424\n",
      "Threshold = 0.62 | Precision = 0.414, Recall = 0.414, f1 = 0.414\n",
      "Threshold = 0.64 | Precision = 0.423, Recall = 0.366, f1 = 0.392\n",
      "Threshold = 0.66 | Precision = 0.438, Recall = 0.333, f1 = 0.378\n",
      "Threshold = 0.68 | Precision = 0.436, Recall = 0.287, f1 = 0.346\n",
      "Threshold = 0.70 | Precision = 0.441, Recall = 0.249, f1 = 0.318\n",
      "Threshold = 0.72 | Precision = 0.449, Recall = 0.220, f1 = 0.295\n",
      "Threshold = 0.74 | Precision = 0.448, Recall = 0.184, f1 = 0.261\n",
      "Threshold = 0.76 | Precision = 0.403, Recall = 0.134, f1 = 0.201\n",
      "Threshold = 0.78 | Precision = 0.350, Recall = 0.098, f1 = 0.153\n",
      "Threshold = 0.80 | Precision = 0.330, Recall = 0.072, f1 = 0.118\n",
      "Threshold = 0.82 | Precision = 0.290, Recall = 0.048, f1 = 0.082\n",
      "Threshold = 0.84 | Precision = 0.291, Recall = 0.038, f1 = 0.068\n",
      "Threshold = 0.86 | Precision = 0.306, Recall = 0.026, f1 = 0.048\n",
      "Threshold = 0.88 | Precision = 0.118, Recall = 0.005, f1 = 0.009\n",
      "Threshold = 0.90 | Precision = 0.083, Recall = 0.002, f1 = 0.005\n",
      "Threshold = 0.92 | Precision = 0.000, Recall = 0.000, f1 = 0.000\n",
      "Threshold = 0.94 | Precision = 0.000, Recall = 0.000, f1 = 0.000\n",
      "Threshold = 0.96 | Precision = 0.000, Recall = 0.000, f1 = 0.000\n",
      "Threshold = 0.98 | Precision = 0.000, Recall = 0.000, f1 = 0.000\n"
     ]
    },
    {
     "name": "stderr",
     "output_type": "stream",
     "text": [
      "/usr/local/lib/python3.8/dist-packages/sklearn/metrics/_classification.py:1318: UndefinedMetricWarning: Precision is ill-defined and being set to 0.0 due to no predicted samples. Use `zero_division` parameter to control this behavior.\n",
      "  _warn_prf(average, modifier, msg_start, len(result))\n",
      "/usr/local/lib/python3.8/dist-packages/sklearn/metrics/_classification.py:1318: UndefinedMetricWarning: Precision is ill-defined and being set to 0.0 due to no predicted samples. Use `zero_division` parameter to control this behavior.\n",
      "  _warn_prf(average, modifier, msg_start, len(result))\n"
     ]
    }
   ],
   "source": [
    "model = best_model\n",
    "probabilities_valid = model.predict_proba(features_valid)\n",
    "probabilities_one_valid = probabilities_valid[:, 1]\n",
    "\n",
    "for threshold in np.arange(0, 1, 0.02):\n",
    "    predicted_valid = probabilities_one_valid > threshold \n",
    "    precision = precision_score(target_valid, predicted_valid)\n",
    "    recall = recall_score(target_valid, predicted_valid)\n",
    "    f1 = f1_score(target_valid, predicted_valid)\n",
    "    print('Threshold = {:.2f} | Precision = {:.3f}, Recall = {:.3f}, f1 = {:.3f}'.format(\n",
    "            \tthreshold, precision, recall,f1))"
   ]
  },
  {
   "cell_type": "markdown",
   "metadata": {
    "id": "W2-m2uHfblDs"
   },
   "source": [
    "Se logró aumentar hasta un F1 = 0.492 con un valor de umbral de 0.52, sinembargo sigue sin ser suficiente."
   ]
  },
  {
   "cell_type": "markdown",
   "metadata": {
    "id": "HSCrvjUgbzF0"
   },
   "source": [
    "Intentemos submuestrearlo para ver si el modelo mejora."
   ]
  },
  {
   "cell_type": "code",
   "execution_count": 32,
   "metadata": {
    "id": "69ezlar2yn9J"
   },
   "outputs": [],
   "source": [
    "def downsample(features, target, fraction):\n",
    "    features_zeros = features[target == 0]\n",
    "    features_ones = features[target == 1]\n",
    "    target_zeros = target[target == 0]\n",
    "    target_ones = target[target == 1]\n",
    "\n",
    "    agg1 = pd.concat([features_zeros.sample(frac = fraction, random_state = 12345)] + [features_ones])\n",
    "    agg2 = pd.concat([target_zeros.sample(frac = fraction, random_state = 12345)] + [target_ones])\n",
    "    \n",
    "    features_downsampled, target_downsampled = shuffle(agg1, agg2, random_state=12345)\n",
    "    \n",
    "    return features_downsampled, target_downsampled"
   ]
  },
  {
   "cell_type": "code",
   "execution_count": 33,
   "metadata": {
    "colab": {
     "base_uri": "https://localhost:8080/"
    },
    "id": "FAQiL1fbzB4h",
    "outputId": "d81d724b-adc2-4cdd-a1dd-3ef6721e59fb"
   },
   "outputs": [
    {
     "name": "stdout",
     "output_type": "stream",
     "text": [
      "El mejor valor de F1 encontrado es:  0.3542905692438403 con: 0.1 repeticiones\n"
     ]
    }
   ],
   "source": [
    "best_repeat = 0\n",
    "best_f1 = 0\n",
    "best_model = None\n",
    "for i in np.arange(0.1,0.9,0.1):\n",
    "  features_downsampled, target_downsampled = downsample(features_train, target_train, 0.1)\n",
    "  model = LogisticRegression(random_state = 12345, solver = 'liblinear')\n",
    "  model.fit(features_upsampled, target_upsampled)\n",
    "  predicted_valid = model.predict(features_valid)\n",
    "  f1 = f1_score(target_valid, predicted_valid)\n",
    "  if f1 > best_f1:\n",
    "    best_f1 = f1\n",
    "    best_repeat = i\n",
    "    best_model = model\n",
    "print('El mejor valor de F1 encontrado es: ',best_f1, 'con:',best_repeat,'repeticiones')"
   ]
  },
  {
   "cell_type": "markdown",
   "metadata": {
    "id": "BJXsQ03rb5Wc"
   },
   "source": [
    "#### CONCLUCIÓN INTERMEDIA\n",
    "\n",
    "Como podemos observar, no obtuvimos mejora alguna, por lo que se decide cambiar a un modelo de bosque aleatorio de decisión, para ello, buscamos valores posibles de sobremuestreo con diferente cantidad de estimadores, para encontrar el mejor modelo posible, ya que el modelo de regresión logistica no da los resultados esperados en este caso."
   ]
  },
  {
   "cell_type": "markdown",
   "metadata": {
    "id": "IYF5eH4o3JBQ"
   },
   "source": [
    "### Arbol aleatorio de decisión"
   ]
  },
  {
   "cell_type": "code",
   "execution_count": 40,
   "metadata": {
    "colab": {
     "base_uri": "https://localhost:8080/"
    },
    "id": "lh58IYol0Ity",
    "outputId": "4d2a4ee7-57b2-444b-d0e2-12f4e03f3a5b"
   },
   "outputs": [
    {
     "name": "stdout",
     "output_type": "stream",
     "text": [
      "El mejor valor de F1 encontrado es:  0.46836847946725857 con: 23 repeticiones y 1 arboles\n",
      "El mejor valor de F1 encontrado es:  0.5798969072164948 con: 23 repeticiones y 11 arboles\n",
      "El mejor valor de F1 encontrado es:  0.5798969072164948 con: 23 repeticiones y 11 arboles\n",
      "El mejor valor de F1 encontrado es:  0.5984455958549223 con: 23 repeticiones y 31 arboles\n",
      "El mejor valor de F1 encontrado es:  0.5984455958549223 con: 23 repeticiones y 31 arboles\n",
      "El mejor valor de F1 encontrado es:  0.5984455958549223 con: 23 repeticiones y 31 arboles\n",
      "El mejor valor de F1 encontrado es:  0.5984455958549223 con: 23 repeticiones y 31 arboles\n",
      "El mejor valor de F1 encontrado es:  0.5984455958549223 con: 23 repeticiones y 31 arboles\n",
      "El mejor valor de F1 encontrado es:  0.5984455958549223 con: 23 repeticiones y 31 arboles\n",
      "El mejor valor de F1 encontrado es:  0.5984455958549223 con: 23 repeticiones y 31 arboles\n",
      "El mejor valor de F1 encontrado es:  0.5984455958549223 con: 23 repeticiones y 31 arboles\n"
     ]
    }
   ],
   "source": [
    "best_repeat = 0\n",
    "best_f1 = 0\n",
    "best_trees = 0\n",
    "best_model = None\n",
    "for i in range(17,25):\n",
    "  for j in range(1,100,10):\n",
    "    features_upsampled, target_upsampled = upsample(features_train, target_train, i)\n",
    "    model = RandomForestClassifier(random_state=54321, n_estimators=j)\n",
    "    model.fit(features_upsampled, target_upsampled)\n",
    "    predicted_valid = model.predict(features_valid)\n",
    "    f1 = f1_score(target_valid, predicted_valid)\n",
    "    if f1 > best_f1:\n",
    "      best_f1 = f1\n",
    "      best_repeat = i\n",
    "      best_model = model\n",
    "      best_trees = j\n",
    "print('El mejor valor de F1 encontrado es: ',best_f1, 'con:',best_repeat,'repeticiones y',best_trees,'arboles')"
   ]
  },
  {
   "cell_type": "markdown",
   "metadata": {
    "id": "bXLTTwkUcSVK"
   },
   "source": [
    "El mejor modelo se logró con un sobre muestreo de 19, y 31 arboles o estimadores, arrojando un valor de F1 = 0.59 un valor bastante aceptable y bueno. Pero se puede mejorar aún más modificando el umbral."
   ]
  },
  {
   "cell_type": "code",
   "execution_count": 41,
   "metadata": {
    "colab": {
     "base_uri": "https://localhost:8080/"
    },
    "id": "VH_rER9bBRWO",
    "outputId": "e663b321-7d48-43d1-d8ff-9f7c8856f58f"
   },
   "outputs": [
    {
     "name": "stdout",
     "output_type": "stream",
     "text": [
      "Threshold = 0.00 | Precision = 0.235, Recall = 0.974, f1 = 0.379\n",
      "Threshold = 0.02 | Precision = 0.235, Recall = 0.974, f1 = 0.379\n",
      "Threshold = 0.04 | Precision = 0.264, Recall = 0.950, f1 = 0.414\n",
      "Threshold = 0.06 | Precision = 0.264, Recall = 0.950, f1 = 0.414\n",
      "Threshold = 0.08 | Precision = 0.291, Recall = 0.916, f1 = 0.442\n",
      "Threshold = 0.10 | Precision = 0.315, Recall = 0.878, f1 = 0.464\n",
      "Threshold = 0.12 | Precision = 0.315, Recall = 0.878, f1 = 0.464\n",
      "Threshold = 0.14 | Precision = 0.346, Recall = 0.849, f1 = 0.492\n",
      "Threshold = 0.16 | Precision = 0.346, Recall = 0.849, f1 = 0.492\n",
      "Threshold = 0.18 | Precision = 0.381, Recall = 0.818, f1 = 0.520\n",
      "Threshold = 0.20 | Precision = 0.416, Recall = 0.794, f1 = 0.546\n",
      "Threshold = 0.22 | Precision = 0.416, Recall = 0.794, f1 = 0.546\n",
      "Threshold = 0.24 | Precision = 0.445, Recall = 0.751, f1 = 0.559\n",
      "Threshold = 0.26 | Precision = 0.474, Recall = 0.734, f1 = 0.577\n",
      "Threshold = 0.28 | Precision = 0.474, Recall = 0.734, f1 = 0.577\n",
      "Threshold = 0.30 | Precision = 0.508, Recall = 0.708, f1 = 0.591\n",
      "Threshold = 0.32 | Precision = 0.508, Recall = 0.708, f1 = 0.591\n",
      "Threshold = 0.34 | Precision = 0.534, Recall = 0.665, f1 = 0.592\n",
      "Threshold = 0.36 | Precision = 0.551, Recall = 0.641, f1 = 0.593\n",
      "Threshold = 0.38 | Precision = 0.551, Recall = 0.641, f1 = 0.593\n",
      "Threshold = 0.40 | Precision = 0.577, Recall = 0.610, f1 = 0.593\n",
      "Threshold = 0.42 | Precision = 0.597, Recall = 0.584, f1 = 0.590\n",
      "Threshold = 0.44 | Precision = 0.597, Recall = 0.584, f1 = 0.590\n",
      "Threshold = 0.46 | Precision = 0.619, Recall = 0.565, f1 = 0.591\n",
      "Threshold = 0.48 | Precision = 0.619, Recall = 0.565, f1 = 0.591\n",
      "Threshold = 0.50 | Precision = 0.653, Recall = 0.553, f1 = 0.598\n",
      "Threshold = 0.52 | Precision = 0.670, Recall = 0.514, f1 = 0.582\n",
      "Threshold = 0.54 | Precision = 0.670, Recall = 0.514, f1 = 0.582\n",
      "Threshold = 0.56 | Precision = 0.700, Recall = 0.474, f1 = 0.565\n",
      "Threshold = 0.58 | Precision = 0.700, Recall = 0.474, f1 = 0.565\n",
      "Threshold = 0.60 | Precision = 0.730, Recall = 0.447, f1 = 0.555\n",
      "Threshold = 0.62 | Precision = 0.751, Recall = 0.411, f1 = 0.532\n",
      "Threshold = 0.64 | Precision = 0.751, Recall = 0.411, f1 = 0.532\n",
      "Threshold = 0.66 | Precision = 0.786, Recall = 0.368, f1 = 0.502\n",
      "Threshold = 0.68 | Precision = 0.787, Recall = 0.328, f1 = 0.463\n",
      "Threshold = 0.70 | Precision = 0.787, Recall = 0.328, f1 = 0.463\n",
      "Threshold = 0.72 | Precision = 0.812, Recall = 0.299, f1 = 0.437\n",
      "Threshold = 0.74 | Precision = 0.812, Recall = 0.299, f1 = 0.437\n",
      "Threshold = 0.76 | Precision = 0.818, Recall = 0.258, f1 = 0.393\n",
      "Threshold = 0.78 | Precision = 0.867, Recall = 0.218, f1 = 0.348\n",
      "Threshold = 0.80 | Precision = 0.867, Recall = 0.218, f1 = 0.348\n",
      "Threshold = 0.82 | Precision = 0.910, Recall = 0.170, f1 = 0.286\n",
      "Threshold = 0.84 | Precision = 0.919, Recall = 0.136, f1 = 0.237\n",
      "Threshold = 0.86 | Precision = 0.919, Recall = 0.136, f1 = 0.237\n",
      "Threshold = 0.88 | Precision = 0.891, Recall = 0.098, f1 = 0.177\n",
      "Threshold = 0.90 | Precision = 0.891, Recall = 0.098, f1 = 0.177\n",
      "Threshold = 0.92 | Precision = 0.879, Recall = 0.069, f1 = 0.129\n",
      "Threshold = 0.94 | Precision = 0.875, Recall = 0.033, f1 = 0.065\n",
      "Threshold = 0.96 | Precision = 0.875, Recall = 0.033, f1 = 0.065\n",
      "Threshold = 0.98 | Precision = 0.800, Recall = 0.010, f1 = 0.019\n"
     ]
    }
   ],
   "source": [
    "model = best_model\n",
    "probabilities_valid = model.predict_proba(features_valid)\n",
    "probabilities_one_valid = probabilities_valid[:, 1]\n",
    "\n",
    "for threshold in np.arange(0, 1, 0.02):\n",
    "    predicted_valid = probabilities_one_valid > threshold \n",
    "    precision = precision_score(target_valid, predicted_valid)\n",
    "    recall = recall_score(target_valid, predicted_valid)\n",
    "    f1 = f1_score(target_valid, predicted_valid)\n",
    "    print('Threshold = {:.2f} | Precision = {:.3f}, Recall = {:.3f}, f1 = {:.3f}'.format(\n",
    "            \tthreshold, precision, recall,f1))"
   ]
  },
  {
   "cell_type": "markdown",
   "metadata": {
    "id": "nBbbZXYnclYC"
   },
   "source": [
    "Como se observa el mejor modelo, tiene un valor de umbral del 0.5, obteniendo un valor de F1 del 0.598.\n",
    "\n",
    "Para observar la cordura del modelo, se muestra a continuación la mtriz de confusuión"
   ]
  },
  {
   "cell_type": "code",
   "execution_count": 42,
   "metadata": {
    "colab": {
     "base_uri": "https://localhost:8080/"
    },
    "id": "VLM7SQy-Pa7A",
    "outputId": "b4339c41-6f0e-41f7-d555-31b09477dfea"
   },
   "outputs": [
    {
     "data": {
      "text/plain": [
       "array([[1459,  123],\n",
       "       [ 187,  231]])"
      ]
     },
     "execution_count": 42,
     "metadata": {},
     "output_type": "execute_result"
    }
   ],
   "source": [
    "predicted_valid = probabilities_one_valid > 0.5\n",
    "confusion_matrix(target_valid, predicted_valid)"
   ]
  },
  {
   "cell_type": "markdown",
   "metadata": {
    "id": "2_VUcR4udCi2"
   },
   "source": [
    "En base a esto, la presición, la sensibilidad y el valor de F1 podemos decir que este modelo es bastanet bueno pra predecir a los empleados que van a desertar del banco. Sin embargo qué tanto? a continuación se grafica la curva de sensibilidadvs presición"
   ]
  },
  {
   "cell_type": "code",
   "execution_count": 43,
   "metadata": {
    "colab": {
     "base_uri": "https://localhost:8080/",
     "height": 404
    },
    "id": "_sBWTJFFHRjl",
    "outputId": "f75be1e9-0e14-468b-baf0-314f35133029"
   },
   "outputs": [
    {
     "data": {
      "image/png": "[encoded data removed]",
      "text/plain": [
       "<Figure size 432x432 with 1 Axes>"
      ]
     },
     "metadata": {
      "needs_background": "light"
     },
     "output_type": "display_data"
    }
   ],
   "source": [
    "probabilities_valid = best_model.predict_proba(features_valid) \n",
    "precision, recall, thresholds = precision_recall_curve(target_valid, probabilities_valid[:, 1] ) \n",
    "plt.figure(figsize=(6, 6)) \n",
    "plt.step(recall, precision, where='post') \n",
    "plt.xlabel('Recall') \n",
    "plt.ylabel('Precision') \n",
    "plt.ylim([0.0, 1.05]) \n",
    "plt.xlim([0.0, 1.0]) \n",
    "plt.title('Precision-Recall Curve') \n",
    "plt.show() "
   ]
  },
  {
   "cell_type": "markdown",
   "metadata": {
    "id": "TtJJbwXadZdM"
   },
   "source": [
    "Se logra una curva bastante elevada, lo cual indica una alta calidad"
   ]
  },
  {
   "cell_type": "markdown",
   "metadata": {
    "id": "ECPqnN9Fd6Mq"
   },
   "source": [
    "Por último estudiamos el AUC-ROC del modelo el cual es una herramienta estadística que se utiliza para medir el acierto en la predicción de eventos binarios, es decir, eventos que bien ocurren o no ocurren como en este caso. Para ello se trazan 2 gráficas, nuestro modelo de alta calidad, y un modelo aleatorio la cual es una linea recta, que quiere decir que nuestro modelo no predice, sino que tiene un 50% de probabilidad de acierto, solo adivina en pocas palabras.\n",
    "\n"
   ]
  },
  {
   "cell_type": "code",
   "execution_count": 44,
   "metadata": {
    "colab": {
     "base_uri": "https://localhost:8080/",
     "height": 295
    },
    "id": "HRoR2SbMM7lV",
    "outputId": "70c8a1a0-6954-4197-864e-523b9ddc6b71"
   },
   "outputs": [
    {
     "data": {
      "image/png": "[encoded data removed]",
      "text/plain": [
       "<Figure size 432x288 with 1 Axes>"
      ]
     },
     "metadata": {
      "needs_background": "light"
     },
     "output_type": "display_data"
    }
   ],
   "source": [
    "fpr, tpr, thresholds = roc_curve(target_valid, probabilities_one_valid) \n",
    "plt.figure()\n",
    "\n",
    "# < traza la gráfica >\n",
    "plt.plot(fpr, tpr, linestyle='-')\n",
    "# Curva ROC para modelo aleatorio (parece una línea recta)\n",
    "plt.plot([0, 1], [0, 1], linestyle='--')\n",
    "\n",
    "# < utiliza las funciones plt.xlim() y plt.ylim() para\n",
    "plt.ylim([0.0, 1.0])\n",
    "plt.xlim([0.0, 1.0])\n",
    "# < utiliza las funciones plt.xlabel() y plt.ylabel() para\n",
    "#   nombrar los ejes \"Tasa de falsos positivos\" y \"Tasa de verdaderos positivos\">\n",
    "plt.xlabel(\"Tasa de falsos positivos\")\n",
    "plt.ylabel(\"Tasa de verdaderos positivos\")\n",
    "# < agrega el encabezado \"Curva ROC\" con la función plt.title() >\n",
    "plt.title('Curva ROC')\n",
    "plt.show()"
   ]
  },
  {
   "cell_type": "markdown",
   "metadata": {
    "id": "vWjbXZFBe35g"
   },
   "source": [
    "En este caso la linea azul, es el modelo creado con el algoritmo, y la linea de color verde, es el modelo aleatorio. si calculamos el area bajo la curva podremos ver que tanto difiere nuestro modelo del aleatorio, y determinar así nuestro modelo solo adivina o si de verdad predice"
   ]
  },
  {
   "cell_type": "code",
   "execution_count": 45,
   "metadata": {
    "colab": {
     "base_uri": "https://localhost:8080/"
    },
    "id": "YVOHggqONa7U",
    "outputId": "617a9283-9b52-4ec4-e420-1be9d1bc87a4"
   },
   "outputs": [
    {
     "name": "stdout",
     "output_type": "stream",
     "text": [
      "0.8278804916555266\n"
     ]
    }
   ],
   "source": [
    "auc_roc = roc_auc_score(target_valid, probabilities_one_valid)\n",
    "print(auc_roc)"
   ]
  },
  {
   "cell_type": "markdown",
   "metadata": {
    "id": "qDubpICufbq2"
   },
   "source": [
    "Realizando el cáculo, podemos determinar que efectivamente al 0.83>0.5 el modelo si predice con una probabilidad del 83% de acierto."
   ]
  },
  {
   "cell_type": "code",
   "execution_count": 46,
   "metadata": {
    "colab": {
     "base_uri": "https://localhost:8080/"
    },
    "id": "4smTolchpobH",
    "outputId": "3a1a42e8-0656-4a23-fb5e-959c818ee7f3"
   },
   "outputs": [
    {
     "data": {
      "text/plain": [
       "0.845"
      ]
     },
     "execution_count": 46,
     "metadata": {},
     "output_type": "execute_result"
    }
   ],
   "source": [
    "best_model.score(features_valid, target_valid)"
   ]
  },
  {
   "cell_type": "code",
   "execution_count": 47,
   "metadata": {
    "colab": {
     "base_uri": "https://localhost:8080/"
    },
    "id": "Jt73gdTsOr1j",
    "outputId": "40a12cbf-3799-4411-d65b-8a8dc038ff9b"
   },
   "outputs": [
    {
     "data": {
      "text/plain": [
       "0.8365"
      ]
     },
     "execution_count": 47,
     "metadata": {},
     "output_type": "execute_result"
    }
   ],
   "source": [
    "best_model.score(features_probe, target_probe)"
   ]
  },
  {
   "cell_type": "code",
   "execution_count": 49,
   "metadata": {
    "colab": {
     "base_uri": "https://localhost:8080/"
    },
    "id": "F-XnD2PesOiI",
    "outputId": "d5fdd2a1-cee4-4116-a1b9-0f3f0d071665"
   },
   "outputs": [
    {
     "name": "stdout",
     "output_type": "stream",
     "text": [
      "Valores de la prueba del modelo\n",
      "F1 = 0.5645805592543276\n",
      "recall = 0.5011820330969267\n",
      "precision = 0.6463414634146342\n",
      "Auc-Roc = 0.8354807809063802\n"
     ]
    }
   ],
   "source": [
    "probabilities_probe = best_model.predict_proba(features_probe)\n",
    "probabilities_one_probe = probabilities_probe[:, 1]\n",
    "predicted_probe = probabilities_one_probe > 0.5\n",
    "precision = precision_score(target_probe, predicted_probe)\n",
    "recall = recall_score(target_probe, predicted_probe)\n",
    "f1 = f1_score(target_probe, predicted_probe)\n",
    "auc_roc = roc_auc_score(target_probe, probabilities_one_probe)\n",
    "\n",
    "print('Valores de la prueba del modelo')\n",
    "print('F1 =',f1)\n",
    "print('recall =',recall)\n",
    "print('precision =',precision)\n",
    "print('Auc-Roc =', auc_roc )"
   ]
  },
  {
   "cell_type": "markdown",
   "metadata": {
    "id": "nyFChVaoxpzj"
   },
   "source": [
    "Como se piede observar se obtuvo un muy buen modelo en este caso, que arrojó buenos resultados para el conjunto de prueba, sin embargo vanmos a reentrenar el modelo con más data para mejorar dichos valores uniendo el conjunto de entrenamiento y validadción"
   ]
  },
  {
   "cell_type": "code",
   "execution_count": 50,
   "metadata": {
    "id": "VSysQ9h8qcbz"
   },
   "outputs": [],
   "source": [
    "feaures_train_2 = pd.concat([features_train,features_valid], axis = 0)\n",
    "target_train_2 = pd.concat([target_train,target_valid], axis = 0)"
   ]
  },
  {
   "cell_type": "code",
   "execution_count": 51,
   "metadata": {
    "colab": {
     "base_uri": "https://localhost:8080/"
    },
    "id": "MdJXuSg8uz84",
    "outputId": "2f60f9df-e0b2-4e41-ec91-4fcfdf99f539"
   },
   "outputs": [
    {
     "name": "stdout",
     "output_type": "stream",
     "text": [
      "Valores de la prueba del modelo\n",
      "F1 = 57.56 %\n",
      "recall = 51.3 %\n",
      "precision = 65.56 %\n",
      "Auc-Roc = 83.55 %\n"
     ]
    }
   ],
   "source": [
    "features_upsampled, target_upsampled = upsample(feaures_train_2, target_train_2, 23)\n",
    "model = RandomForestClassifier(random_state=54321, n_estimators=31)\n",
    "model.fit(features_upsampled, target_upsampled)\n",
    "predicted_probe = model.predict(features_probe)\n",
    "precision = precision_score(target_probe, predicted_probe)\n",
    "recall = recall_score(target_probe, predicted_probe)\n",
    "f1 = f1_score(target_probe, predicted_probe)\n",
    "auc_roc = roc_auc_score(target_probe, probabilities_one_probe)\n",
    "\n",
    "\n",
    "print('Valores de la prueba del modelo')\n",
    "print('F1 =',round(f1*100,2), '%')\n",
    "print('recall =',round(recall*100,2), '%')\n",
    "print('precision =',round(precision*100,2), '%')\n",
    "print('Auc-Roc =', round(auc_roc*100,2), '%')\n"
   ]
  },
  {
   "cell_type": "markdown",
   "metadata": {
    "id": "thuvN8Jhx-NC"
   },
   "source": [
    "Como podemos observar, se elevaron los valores dde sensibilidad, presición exactitud, F1 y area bajo la curva. Ahora bien, podemos ver si para ete nuevo conjunto tenemos mejores valores volviendo a correr el codigo que nos pemrite determinarlo, pero ajora con estos nuevos conjuntos de entrenamiento"
   ]
  },
  {
   "cell_type": "code",
   "execution_count": 54,
   "metadata": {
    "colab": {
     "base_uri": "https://localhost:8080/"
    },
    "id": "5UJ4K9X-xaIS",
    "outputId": "3a417b90-ed27-44c9-e22b-f2d5b38ffadf"
   },
   "outputs": [
    {
     "name": "stdout",
     "output_type": "stream",
     "text": [
      "El mejor valor de F1 encontrado es:  0.4627192982456141 con: 16 repeticiones y 1 arboles\n",
      "El mejor valor de F1 encontrado es:  0.5717948717948718 con: 16 repeticiones y 11 arboles\n",
      "El mejor valor de F1 encontrado es:  0.5717948717948718 con: 16 repeticiones y 11 arboles\n",
      "El mejor valor de F1 encontrado es:  0.5717948717948718 con: 16 repeticiones y 11 arboles\n",
      "El mejor valor de F1 encontrado es:  0.5717948717948718 con: 16 repeticiones y 11 arboles\n",
      "El mejor valor de F1 encontrado es:  0.5717948717948718 con: 16 repeticiones y 11 arboles\n",
      "El mejor valor de F1 encontrado es:  0.5756358768406962 con: 16 repeticiones y 61 arboles\n",
      "El mejor valor de F1 encontrado es:  0.5756358768406962 con: 16 repeticiones y 61 arboles\n",
      "El mejor valor de F1 encontrado es:  0.5851063829787234 con: 16 repeticiones y 81 arboles\n",
      "El mejor valor de F1 encontrado es:  0.5851063829787234 con: 16 repeticiones y 81 arboles\n",
      "El mejor valor de F1 encontrado es:  0.5851063829787234 con: 16 repeticiones y 81 arboles\n",
      "El mejor valor de F1 encontrado es:  0.5851063829787234 con: 16 repeticiones y 81 arboles\n",
      "El mejor valor de F1 encontrado es:  0.5851063829787234 con: 16 repeticiones y 81 arboles\n",
      "El mejor valor de F1 encontrado es:  0.5851063829787234 con: 16 repeticiones y 81 arboles\n",
      "El mejor valor de F1 encontrado es:  0.5851063829787234 con: 16 repeticiones y 81 arboles\n",
      "El mejor valor de F1 encontrado es:  0.5851063829787234 con: 16 repeticiones y 81 arboles\n",
      "El mejor valor de F1 encontrado es:  0.5851063829787234 con: 16 repeticiones y 81 arboles\n",
      "El mejor valor de F1 encontrado es:  0.5851063829787234 con: 16 repeticiones y 81 arboles\n",
      "El mejor valor de F1 encontrado es:  0.5851063829787234 con: 16 repeticiones y 81 arboles\n",
      "El mejor valor de F1 encontrado es:  0.5851063829787234 con: 16 repeticiones y 81 arboles\n",
      "El mejor valor de F1 encontrado es:  0.5851063829787234 con: 16 repeticiones y 81 arboles\n",
      "El mejor valor de F1 encontrado es:  0.5851063829787234 con: 16 repeticiones y 81 arboles\n",
      "El mejor valor de F1 encontrado es:  0.5851063829787234 con: 16 repeticiones y 81 arboles\n",
      "El mejor valor de F1 encontrado es:  0.5851063829787234 con: 16 repeticiones y 81 arboles\n",
      "El mejor valor de F1 encontrado es:  0.5851063829787234 con: 16 repeticiones y 81 arboles\n",
      "El mejor valor de F1 encontrado es:  0.5851063829787234 con: 16 repeticiones y 81 arboles\n",
      "El mejor valor de F1 encontrado es:  0.5851063829787234 con: 16 repeticiones y 81 arboles\n",
      "El mejor valor de F1 encontrado es:  0.5851063829787234 con: 16 repeticiones y 81 arboles\n",
      "El mejor valor de F1 encontrado es:  0.5851063829787234 con: 16 repeticiones y 81 arboles\n",
      "El mejor valor de F1 encontrado es:  0.5851063829787234 con: 16 repeticiones y 81 arboles\n",
      "El mejor valor de F1 encontrado es:  0.5851063829787234 con: 16 repeticiones y 81 arboles\n",
      "El mejor valor de F1 encontrado es:  0.5851063829787234 con: 16 repeticiones y 81 arboles\n",
      "El mejor valor de F1 encontrado es:  0.5952380952380952 con: 19 repeticiones y 21 arboles\n",
      "El mejor valor de F1 encontrado es:  0.5952380952380952 con: 19 repeticiones y 21 arboles\n",
      "El mejor valor de F1 encontrado es:  0.5952380952380952 con: 19 repeticiones y 21 arboles\n",
      "El mejor valor de F1 encontrado es:  0.5952380952380952 con: 19 repeticiones y 21 arboles\n",
      "El mejor valor de F1 encontrado es:  0.5968169761273209 con: 19 repeticiones y 61 arboles\n",
      "El mejor valor de F1 encontrado es:  0.5976095617529881 con: 19 repeticiones y 71 arboles\n",
      "El mejor valor de F1 encontrado es:  0.5976095617529881 con: 19 repeticiones y 71 arboles\n",
      "El mejor valor de F1 encontrado es:  0.6016042780748664 con: 19 repeticiones y 91 arboles\n",
      "El mejor valor de F1 encontrado es:  0.6016042780748664 con: 19 repeticiones y 91 arboles\n",
      "El mejor valor de F1 encontrado es:  0.6016042780748664 con: 19 repeticiones y 91 arboles\n",
      "El mejor valor de F1 encontrado es:  0.6016042780748664 con: 19 repeticiones y 91 arboles\n",
      "El mejor valor de F1 encontrado es:  0.6016042780748664 con: 19 repeticiones y 91 arboles\n",
      "El mejor valor de F1 encontrado es:  0.6016042780748664 con: 19 repeticiones y 91 arboles\n",
      "El mejor valor de F1 encontrado es:  0.6016042780748664 con: 19 repeticiones y 91 arboles\n",
      "El mejor valor de F1 encontrado es:  0.6016042780748664 con: 19 repeticiones y 91 arboles\n",
      "El mejor valor de F1 encontrado es:  0.6016042780748664 con: 19 repeticiones y 91 arboles\n",
      "El mejor valor de F1 encontrado es:  0.6016042780748664 con: 19 repeticiones y 91 arboles\n",
      "El mejor valor de F1 encontrado es:  0.6016042780748664 con: 19 repeticiones y 91 arboles\n",
      "El mejor valor de F1 encontrado es:  0.6016042780748664 con: 19 repeticiones y 91 arboles\n",
      "El mejor valor de F1 encontrado es:  0.6016042780748664 con: 19 repeticiones y 91 arboles\n",
      "El mejor valor de F1 encontrado es:  0.6016042780748664 con: 19 repeticiones y 91 arboles\n",
      "El mejor valor de F1 encontrado es:  0.6016042780748664 con: 19 repeticiones y 91 arboles\n",
      "El mejor valor de F1 encontrado es:  0.6016042780748664 con: 19 repeticiones y 91 arboles\n",
      "El mejor valor de F1 encontrado es:  0.6016042780748664 con: 19 repeticiones y 91 arboles\n",
      "El mejor valor de F1 encontrado es:  0.6016042780748664 con: 19 repeticiones y 91 arboles\n",
      "El mejor valor de F1 encontrado es:  0.6016042780748664 con: 19 repeticiones y 91 arboles\n",
      "El mejor valor de F1 encontrado es:  0.6016042780748664 con: 19 repeticiones y 91 arboles\n",
      "El mejor valor de F1 encontrado es:  0.6016042780748664 con: 19 repeticiones y 91 arboles\n",
      "El mejor valor de F1 encontrado es:  0.6016042780748664 con: 19 repeticiones y 91 arboles\n",
      "El mejor valor de F1 encontrado es:  0.6016042780748664 con: 19 repeticiones y 91 arboles\n",
      "El mejor valor de F1 encontrado es:  0.6016042780748664 con: 19 repeticiones y 91 arboles\n",
      "El mejor valor de F1 encontrado es:  0.6016042780748664 con: 19 repeticiones y 91 arboles\n",
      "El mejor valor de F1 encontrado es:  0.6016042780748664 con: 19 repeticiones y 91 arboles\n",
      "El mejor valor de F1 encontrado es:  0.6016042780748664 con: 19 repeticiones y 91 arboles\n",
      "El mejor valor de F1 encontrado es:  0.6016042780748664 con: 19 repeticiones y 91 arboles\n",
      "El mejor valor de F1 encontrado es:  0.6016042780748664 con: 19 repeticiones y 91 arboles\n",
      "El mejor valor de F1 encontrado es:  0.6016042780748664 con: 19 repeticiones y 91 arboles\n",
      "El mejor valor de F1 encontrado es:  0.6016042780748664 con: 19 repeticiones y 91 arboles\n",
      "El mejor valor de F1 encontrado es:  0.6016042780748664 con: 19 repeticiones y 91 arboles\n",
      "El mejor valor de F1 encontrado es:  0.6016042780748664 con: 19 repeticiones y 91 arboles\n",
      "El mejor valor de F1 encontrado es:  0.6016042780748664 con: 19 repeticiones y 91 arboles\n",
      "El mejor valor de F1 encontrado es:  0.6016042780748664 con: 19 repeticiones y 91 arboles\n",
      "El mejor valor de F1 encontrado es:  0.6016042780748664 con: 19 repeticiones y 91 arboles\n",
      "El mejor valor de F1 encontrado es:  0.6016042780748664 con: 19 repeticiones y 91 arboles\n",
      "El mejor valor de F1 encontrado es:  0.6016042780748664 con: 19 repeticiones y 91 arboles\n",
      "El mejor valor de F1 encontrado es:  0.6016042780748664 con: 19 repeticiones y 91 arboles\n",
      "El mejor valor de F1 encontrado es:  0.6016042780748664 con: 19 repeticiones y 91 arboles\n",
      "El mejor valor de F1 encontrado es:  0.6016042780748664 con: 19 repeticiones y 91 arboles\n",
      "El mejor valor de F1 encontrado es:  0.6016042780748664 con: 19 repeticiones y 91 arboles\n",
      "El mejor valor de F1 encontrado es:  0.6016042780748664 con: 19 repeticiones y 91 arboles\n",
      "El mejor valor de F1 encontrado es:  0.6016042780748664 con: 19 repeticiones y 91 arboles\n",
      "El mejor valor de F1 encontrado es:  0.6016042780748664 con: 19 repeticiones y 91 arboles\n",
      "El mejor valor de F1 encontrado es:  0.6016042780748664 con: 19 repeticiones y 91 arboles\n",
      "El mejor valor de F1 encontrado es:  0.6016042780748664 con: 19 repeticiones y 91 arboles\n",
      "El mejor valor de F1 encontrado es:  0.6016042780748664 con: 19 repeticiones y 91 arboles\n",
      "El mejor valor de F1 encontrado es:  0.6016042780748664 con: 19 repeticiones y 91 arboles\n",
      "El mejor valor de F1 encontrado es:  0.6016042780748664 con: 19 repeticiones y 91 arboles\n",
      "El mejor valor de F1 encontrado es:  0.6016042780748664 con: 19 repeticiones y 91 arboles\n",
      "El mejor valor de F1 encontrado es:  0.6016042780748664 con: 19 repeticiones y 91 arboles\n"
     ]
    }
   ],
   "source": [
    "best_repeat = 0\n",
    "best_f1 = 0\n",
    "best_trees = 0\n",
    "best_model = None\n",
    "for i in range(17,25):\n",
    "  for j in range(1,100,10):\n",
    "    features_upsampled, target_upsampled = upsample(feaures_train_2, target_train_2, i)\n",
    "    model = RandomForestClassifier(random_state=54321, n_estimators=j)\n",
    "    model.fit(features_upsampled, target_upsampled)\n",
    "    predicted_probe = model.predict(features_probe)\n",
    "    f1 = f1_score(target_probe, predicted_probe)\n",
    "    if f1 > best_f1:\n",
    "      best_f1 = f1\n",
    "      best_repeat = i\n",
    "      best_model = model\n",
    "      best_trees = j\n",
    "    print('El mejor valor de F1 encontrado es: ',best_f1, 'con:',best_repeat,'repeticiones y',best_trees,'arboles')\n",
    "print('El mejor valor de F1 encontrado es: ',best_f1, 'con:',best_repeat,'repeticiones y',best_trees,'arboles')"
   ]
  },
  {
   "cell_type": "markdown",
   "metadata": {
    "id": "JIHYIY3CyPtA"
   },
   "source": [
    "Como podemos ver, los nuevos mejores valores son 19 repetiviones y 91 arboles de decisión, con los que se obtiene un 60.2% de F1. Si entrenamos nuestro modelo con estos valores y obtenemos nuevamente las metricas tenemos:"
   ]
  },
  {
   "cell_type": "code",
   "execution_count": 55,
   "metadata": {
    "colab": {
     "base_uri": "https://localhost:8080/"
    },
    "id": "KAt5W6s80asb",
    "outputId": "3273d925-8437-46a2-b9fa-c3b2d266c2a0"
   },
   "outputs": [
    {
     "name": "stdout",
     "output_type": "stream",
     "text": [
      "Threshold = 0.00 | Precision = 0.224, Recall = 0.995, f1 = 0.366\n",
      "Threshold = 0.02 | Precision = 0.236, Recall = 0.986, f1 = 0.381\n",
      "Threshold = 0.04 | Precision = 0.263, Recall = 0.972, f1 = 0.414\n",
      "Threshold = 0.06 | Precision = 0.287, Recall = 0.955, f1 = 0.441\n",
      "Threshold = 0.08 | Precision = 0.312, Recall = 0.943, f1 = 0.469\n",
      "Threshold = 0.10 | Precision = 0.332, Recall = 0.913, f1 = 0.487\n",
      "Threshold = 0.12 | Precision = 0.343, Recall = 0.905, f1 = 0.497\n",
      "Threshold = 0.14 | Precision = 0.364, Recall = 0.889, f1 = 0.516\n",
      "Threshold = 0.16 | Precision = 0.382, Recall = 0.849, f1 = 0.527\n",
      "Threshold = 0.18 | Precision = 0.398, Recall = 0.825, f1 = 0.537\n",
      "Threshold = 0.20 | Precision = 0.416, Recall = 0.809, f1 = 0.549\n",
      "Threshold = 0.22 | Precision = 0.442, Recall = 0.790, f1 = 0.567\n",
      "Threshold = 0.24 | Precision = 0.447, Recall = 0.773, f1 = 0.567\n",
      "Threshold = 0.26 | Precision = 0.464, Recall = 0.735, f1 = 0.569\n",
      "Threshold = 0.28 | Precision = 0.485, Recall = 0.709, f1 = 0.576\n",
      "Threshold = 0.30 | Precision = 0.496, Recall = 0.693, f1 = 0.578\n",
      "Threshold = 0.32 | Precision = 0.517, Recall = 0.681, f1 = 0.588\n",
      "Threshold = 0.34 | Precision = 0.520, Recall = 0.667, f1 = 0.584\n",
      "Threshold = 0.36 | Precision = 0.545, Recall = 0.650, f1 = 0.593\n",
      "Threshold = 0.38 | Precision = 0.570, Recall = 0.634, f1 = 0.600\n",
      "Threshold = 0.40 | Precision = 0.594, Recall = 0.610, f1 = 0.602\n",
      "Threshold = 0.42 | Precision = 0.607, Recall = 0.582, f1 = 0.594\n",
      "Threshold = 0.44 | Precision = 0.632, Recall = 0.572, f1 = 0.600\n",
      "Threshold = 0.46 | Precision = 0.650, Recall = 0.570, f1 = 0.607\n",
      "Threshold = 0.48 | Precision = 0.671, Recall = 0.556, f1 = 0.608\n",
      "Threshold = 0.50 | Precision = 0.692, Recall = 0.532, f1 = 0.602\n",
      "Threshold = 0.52 | Precision = 0.691, Recall = 0.508, f1 = 0.586\n",
      "Threshold = 0.54 | Precision = 0.719, Recall = 0.489, f1 = 0.582\n",
      "Threshold = 0.56 | Precision = 0.725, Recall = 0.473, f1 = 0.572\n",
      "Threshold = 0.58 | Precision = 0.730, Recall = 0.435, f1 = 0.545\n",
      "Threshold = 0.60 | Precision = 0.736, Recall = 0.402, f1 = 0.520\n",
      "Threshold = 0.62 | Precision = 0.751, Recall = 0.385, f1 = 0.509\n",
      "Threshold = 0.64 | Precision = 0.755, Recall = 0.357, f1 = 0.485\n",
      "Threshold = 0.66 | Precision = 0.761, Recall = 0.331, f1 = 0.461\n",
      "Threshold = 0.68 | Precision = 0.780, Recall = 0.326, f1 = 0.460\n",
      "Threshold = 0.70 | Precision = 0.788, Recall = 0.307, f1 = 0.442\n",
      "Threshold = 0.72 | Precision = 0.788, Recall = 0.291, f1 = 0.425\n",
      "Threshold = 0.74 | Precision = 0.791, Recall = 0.260, f1 = 0.391\n",
      "Threshold = 0.76 | Precision = 0.802, Recall = 0.248, f1 = 0.379\n",
      "Threshold = 0.78 | Precision = 0.798, Recall = 0.234, f1 = 0.362\n",
      "Threshold = 0.80 | Precision = 0.829, Recall = 0.217, f1 = 0.345\n",
      "Threshold = 0.82 | Precision = 0.853, Recall = 0.191, f1 = 0.313\n",
      "Threshold = 0.84 | Precision = 0.860, Recall = 0.175, f1 = 0.291\n",
      "Threshold = 0.86 | Precision = 0.870, Recall = 0.158, f1 = 0.268\n",
      "Threshold = 0.88 | Precision = 0.881, Recall = 0.123, f1 = 0.216\n",
      "Threshold = 0.90 | Precision = 0.872, Recall = 0.097, f1 = 0.174\n",
      "Threshold = 0.92 | Precision = 0.893, Recall = 0.059, f1 = 0.111\n",
      "Threshold = 0.94 | Precision = 0.882, Recall = 0.035, f1 = 0.068\n",
      "Threshold = 0.96 | Precision = 1.000, Recall = 0.014, f1 = 0.028\n",
      "Threshold = 0.98 | Precision = 1.000, Recall = 0.007, f1 = 0.014\n"
     ]
    }
   ],
   "source": [
    "probabilities_probe = best_model.predict_proba(features_probe)\n",
    "probabilities_one_probe = probabilities_probe[:, 1]\n",
    "\n",
    "for threshold in np.arange(0, 1, 0.02):\n",
    "    predicted_probe = probabilities_one_probe > threshold \n",
    "    precision = precision_score(target_probe, predicted_probe)\n",
    "    recall = recall_score(target_probe, predicted_probe)\n",
    "    f1 = f1_score(target_probe, predicted_probe)\n",
    "    print('Threshold = {:.2f} | Precision = {:.3f}, Recall = {:.3f}, f1 = {:.3f}'.format(\n",
    "            \tthreshold, precision, recall,f1))"
   ]
  },
  {
   "cell_type": "markdown",
   "metadata": {
    "id": "868gU_x-0rX_"
   },
   "source": [
    "Como podemos ver, con un umbral del 0.48 podemos tener un F1 = 60.8% aplicando dicho umbral obtenemos los siguientes valores"
   ]
  },
  {
   "cell_type": "code",
   "execution_count": 56,
   "metadata": {
    "colab": {
     "base_uri": "https://localhost:8080/"
    },
    "id": "su1EFbDuxfDE",
    "outputId": "61f310fc-c101-49d3-9f19-e6a4bf2feb79"
   },
   "outputs": [
    {
     "name": "stdout",
     "output_type": "stream",
     "text": [
      "Valores de la prueba del modelo\n",
      "F1 = 60.8 %\n",
      "recall = 55.56 %\n",
      "precision = 67.14 %\n",
      "Auc-Roc = 84.33 %\n",
      "Excatitud = 85.1 %\n"
     ]
    }
   ],
   "source": [
    "features_upsampled, target_upsampled = upsample(feaures_train_2, target_train_2, 19)\n",
    "model = RandomForestClassifier(random_state=54321, n_estimators=91)\n",
    "model.fit(features_upsampled, target_upsampled)\n",
    "probabilities_probe = model.predict_proba(features_probe)\n",
    "probabilities_one_probe = probabilities_probe[:, 1]\n",
    "predicted_probe = probabilities_one_probe > 0.48 \n",
    "precision = precision_score(target_probe, predicted_probe)\n",
    "recall = recall_score(target_probe, predicted_probe)\n",
    "f1 = f1_score(target_probe, predicted_probe)\n",
    "auc_roc = roc_auc_score(target_probe, probabilities_one_probe)\n",
    "Excatitud = model.score(features_probe, target_probe)\n",
    "\n",
    "\n",
    "\n",
    "print('Valores de la prueba del modelo')\n",
    "print('F1 =',round(f1*100,2), '%')\n",
    "print('recall =',round(recall*100,2), '%')\n",
    "print('precision =',round(precision*100,2), '%')\n",
    "print('Auc-Roc =', round(auc_roc*100,2), '%')\n",
    "print('Excatitud =', round(Excatitud*100,2), '%')"
   ]
  },
  {
   "cell_type": "markdown",
   "metadata": {
    "id": "a67o3vsl0Ati"
   },
   "source": [
    "Ahora se logró mejorar el modelo, a tal punto de tener unos valores bastante óptimos, que nos pueden predecir con un 85.1% de exactitud si un cliente seirá o no del banco."
   ]
  },
  {
   "cell_type": "code",
   "execution_count": 58,
   "metadata": {
    "colab": {
     "base_uri": "https://localhost:8080/",
     "height": 404
    },
    "id": "XnjtJKNW1n1u",
    "outputId": "4cd4bc37-826d-47fd-8443-3c971af6c31e"
   },
   "outputs": [
    {
     "data": {
      "image/png": "[encoded data removed]",
      "text/plain": [
       "<Figure size 432x432 with 1 Axes>"
      ]
     },
     "metadata": {
      "needs_background": "light"
     },
     "output_type": "display_data"
    }
   ],
   "source": [
    "probabilities_probe = best_model.predict_proba(features_probe) \n",
    "precision, recall, thresholds = precision_recall_curve(target_probe, probabilities_probe[:, 1] ) \n",
    "plt.figure(figsize=(6, 6)) \n",
    "plt.step(recall, precision, where='post') \n",
    "plt.xlabel('Recall') \n",
    "plt.ylabel('Precision') \n",
    "plt.ylim([0.0, 1.05]) \n",
    "plt.xlim([0.0, 1.0]) \n",
    "plt.title('Precision-Recall Curve') \n",
    "plt.show() "
   ]
  },
  {
   "cell_type": "markdown",
   "metadata": {
    "id": "c_qzr4-n0Oa8"
   },
   "source": [
    "Vemos como la curva ahora es más alta que anterioemente"
   ]
  },
  {
   "cell_type": "code",
   "execution_count": 59,
   "metadata": {
    "colab": {
     "base_uri": "https://localhost:8080/",
     "height": 295
    },
    "id": "0wo4AIv3w5dx",
    "outputId": "e0854369-50d1-4bd7-db97-542a6aaaaa9c"
   },
   "outputs": [
    {
     "data": {
      "image/png": "[encoded data removed]",
      "text/plain": [
       "<Figure size 432x288 with 1 Axes>"
      ]
     },
     "metadata": {
      "needs_background": "light"
     },
     "output_type": "display_data"
    }
   ],
   "source": [
    "fpr, tpr, thresholds = roc_curve(target_probe, probabilities_one_probe) \n",
    "plt.figure()\n",
    "\n",
    "# < traza la gráfica >\n",
    "plt.plot(fpr, tpr, linestyle='-')\n",
    "# Curva ROC para modelo aleatorio (parece una línea recta)\n",
    "plt.plot([0, 1], [0, 1], linestyle='--')\n",
    "\n",
    "# < utiliza las funciones plt.xlim() y plt.ylim() para\n",
    "plt.ylim([0.0, 1.0])\n",
    "plt.xlim([0.0, 1.0])\n",
    "# < utiliza las funciones plt.xlabel() y plt.ylabel() para\n",
    "#   nombrar los ejes \"Tasa de falsos positivos\" y \"Tasa de verdaderos positivos\">\n",
    "plt.xlabel(\"Tasa de falsos positivos\")\n",
    "plt.ylabel(\"Tasa de verdaderos positivos\")\n",
    "# < agrega el encabezado \"Curva ROC\" con la función plt.title() >\n",
    "plt.title('Curva ROC')\n",
    "plt.show()"
   ]
  },
  {
   "cell_type": "markdown",
   "metadata": {
    "id": "h9OfUJGa185n"
   },
   "source": [
    "Y como nuestro modelo no es aleatorio, sino que en verdad predice y mejor que antes"
   ]
  },
  {
   "cell_type": "markdown",
   "metadata": {
    "id": "9l8AmrA8yk2R"
   },
   "source": [
    "#### Conclisión intermedia\n",
    "\n",
    "Como podemos ver, podemos conlcuir en este caso al separar los conjuntos de datos, es posible obtener resultados bastente óptimos, que al apliacar conjuntos externos de datos, nos permiten predecir con muy buena precisión y exactitud los resultados que queremos, y que mientras más data se tiene, mejores serán los resultados que podemos obtener, ya que será más sencillo encontrar relaciones entre los datos."
   ]
  },
  {
   "cell_type": "markdown",
   "metadata": {
    "id": "N0J4u9EIqRkk"
   },
   "source": [
    "## **CONCLUSIÓN GENERAL**"
   ]
  },
  {
   "cell_type": "markdown",
   "metadata": {
    "id": "3VX8lE_b1eQl"
   },
   "source": [
    "En conclusión durante el preprocesamiento de los datos se observó la presencia de algunos valores ausnetes en la columna de `Tenure` el cual contiene información sobre el período durante el cual ha madurado el depósito a plazo fijo de un cliente (años) cuya ausencia lo que puede significar que no posee ningún depósito de este típo, por lo cual el espacio se dejó en blanco y para no perder las caracteríasticas simplemenete sustituiremos el valor por 0.\n",
    "\n",
    "Además no existe un valor demasiado claro que nos permita determinar si un cliente se irá o no, vemos que las variaciones son bastente sutiles, es por eso que se recurre al Machine Learning\n",
    "\n",
    "Así mismo, se intentó utilizar un m,odelo de regresión logística en el cual no obtuvimos bueno resultados, por lo que se decide cambiar a un modelo de bosque aleatorio de decisión\n",
    "\n",
    "Luego, podemos conlcuir en este caso con el modelo de arbol aleatorio de decisión al separar los conjuntos de datos, es posible obtener resultados bastente óptimos, que al apliacar conjuntos externos de datos, nos permiten predecir con muy buena precisión y exactitud los resultados que queremos, en este caso obtuvimos los siguientes valores:\n",
    "\n",
    "* F1 = 60.8 %\n",
    "* recall = 55.56 %\n",
    "* precision = 67.14 %\n",
    "* Auc-Roc = 84.33 %\n",
    "* Excatitud = 85.1 %\n",
    "\n",
    "Lo que quiere decir que se tiene un modelo lo suficientemente bueno como para tener una exactitud del 85,1% con buenos niveles de sensibilidad y presición el cual no toma desiciones aleatorias, siendo ápto para predecir si un cliente se va a ir o no del banco y poder tomar las medidas necesarias para que este se mantenga"
   ]
  }
 ],
 "metadata": {
  "colab": {
   "provenance": []
  },
  "kernelspec": {
   "display_name": "Python 3 (ipykernel)",
   "language": "python",
   "name": "python3"
  },
  "language_info": {
   "codemirror_mode": {
    "name": "ipython",
    "version": 3
   },
   "file_extension": ".py",
   "mimetype": "text/x-python",
   "name": "python",
   "nbconvert_exporter": "python",
   "pygments_lexer": "ipython3",
   "version": "3.9.5"
  },
  "toc": {
   "base_numbering": 1,
   "nav_menu": {},
   "number_sections": true,
   "sideBar": true,
   "skip_h1_title": true,
   "title_cell": "Table of Contents",
   "title_sidebar": "Contents",
   "toc_cell": false,
   "toc_position": {},
   "toc_section_display": true,
   "toc_window_display": false
  }
 },
 "nbformat": 4,
 "nbformat_minor": 1
}
